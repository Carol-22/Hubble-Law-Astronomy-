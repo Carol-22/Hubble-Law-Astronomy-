{
 "cells": [
  {
   "cell_type": "markdown",
   "id": "4660e8d0-1e98-42cf-864e-216e66327886",
   "metadata": {},
   "source": [
    "# Proyecto de redes neuronales profundas \n",
    "## Carol Edith Quiñones Sánchez \n",
    "### Proyecto sobre la estimación del Redshift apartir de la magnitud aparente usando el modelo LSTM y la base de datos de Kaggle: (https://www.kaggle.com/datasets/austinhinkel/hubble-law-astronomy-lab)\n"
   ]
  },
  {
   "cell_type": "code",
   "execution_count": 34,
   "id": "897fda1e-79b3-4c23-aad8-d63f1d43ef24",
   "metadata": {},
   "outputs": [],
   "source": [
    "#Importación de librerias \n",
    "import numpy as np\n",
    "import pandas as pd\n",
    "import matplotlib.pyplot as plt\n",
    "from sklearn.preprocessing import MinMaxScaler\n",
    "from sklearn.impute import SimpleImputer\n",
    "from sklearn.metrics import r2_score\n",
    "from tensorflow.keras.models import Sequential\n",
    "from tensorflow.keras.layers import LSTM, Dense, Dropout\n",
    "from tensorflow.keras.optimizers import Adam\n"
   ]
  },
  {
   "cell_type": "code",
   "execution_count": 35,
   "id": "b5b942e8-3d3e-4bea-a000-866ef68e3c6c",
   "metadata": {},
   "outputs": [],
   "source": [
    "import seaborn as sns\n",
    "from sklearn.metrics import r2_score\n",
    "import plotly.graph_objects as go"
   ]
  },
  {
   "cell_type": "markdown",
   "id": "f3457e75-6a39-4011-9b3d-620cdcc1809f",
   "metadata": {},
   "source": [
    "### LECTURA DE DATOS Y ANÁLISIS EXPLORATORIO"
   ]
  },
  {
   "cell_type": "code",
   "execution_count": 36,
   "id": "e1411f2a-3237-4dc1-aa16-9b099b423e40",
   "metadata": {},
   "outputs": [
    {
     "data": {
      "text/html": [
       "<div>\n",
       "<style scoped>\n",
       "    .dataframe tbody tr th:only-of-type {\n",
       "        vertical-align: middle;\n",
       "    }\n",
       "\n",
       "    .dataframe tbody tr th {\n",
       "        vertical-align: top;\n",
       "    }\n",
       "\n",
       "    .dataframe thead th {\n",
       "        text-align: right;\n",
       "    }\n",
       "</style>\n",
       "<table border=\"1\" class=\"dataframe\">\n",
       "  <thead>\n",
       "    <tr style=\"text-align: right;\">\n",
       "      <th></th>\n",
       "      <th>apparent_magnitude</th>\n",
       "      <th>redshift</th>\n",
       "    </tr>\n",
       "  </thead>\n",
       "  <tbody>\n",
       "    <tr>\n",
       "      <th>0</th>\n",
       "      <td>16.728844</td>\n",
       "      <td>0.040526</td>\n",
       "    </tr>\n",
       "    <tr>\n",
       "      <th>1</th>\n",
       "      <td>17.002490</td>\n",
       "      <td>0.047370</td>\n",
       "    </tr>\n",
       "    <tr>\n",
       "      <th>2</th>\n",
       "      <td>17.952543</td>\n",
       "      <td>0.069776</td>\n",
       "    </tr>\n",
       "    <tr>\n",
       "      <th>3</th>\n",
       "      <td>17.241295</td>\n",
       "      <td>0.052880</td>\n",
       "    </tr>\n",
       "    <tr>\n",
       "      <th>4</th>\n",
       "      <td>17.807425</td>\n",
       "      <td>0.065662</td>\n",
       "    </tr>\n",
       "    <tr>\n",
       "      <th>...</th>\n",
       "      <td>...</td>\n",
       "      <td>...</td>\n",
       "    </tr>\n",
       "    <tr>\n",
       "      <th>395</th>\n",
       "      <td>14.842944</td>\n",
       "      <td>0.016959</td>\n",
       "    </tr>\n",
       "    <tr>\n",
       "      <th>396</th>\n",
       "      <td>15.478982</td>\n",
       "      <td>0.021765</td>\n",
       "    </tr>\n",
       "    <tr>\n",
       "      <th>397</th>\n",
       "      <td>14.613858</td>\n",
       "      <td>0.014998</td>\n",
       "    </tr>\n",
       "    <tr>\n",
       "      <th>398</th>\n",
       "      <td>16.335897</td>\n",
       "      <td>0.033059</td>\n",
       "    </tr>\n",
       "    <tr>\n",
       "      <th>399</th>\n",
       "      <td>15.032144</td>\n",
       "      <td>0.018029</td>\n",
       "    </tr>\n",
       "  </tbody>\n",
       "</table>\n",
       "<p>400 rows × 2 columns</p>\n",
       "</div>"
      ],
      "text/plain": [
       "     apparent_magnitude  redshift\n",
       "0             16.728844  0.040526\n",
       "1             17.002490  0.047370\n",
       "2             17.952543  0.069776\n",
       "3             17.241295  0.052880\n",
       "4             17.807425  0.065662\n",
       "..                  ...       ...\n",
       "395           14.842944  0.016959\n",
       "396           15.478982  0.021765\n",
       "397           14.613858  0.014998\n",
       "398           16.335897  0.033059\n",
       "399           15.032144  0.018029\n",
       "\n",
       "[400 rows x 2 columns]"
      ]
     },
     "execution_count": 36,
     "metadata": {},
     "output_type": "execute_result"
    }
   ],
   "source": [
    "df = pd.read_csv('simulatedHubblesLawData.csv')\n",
    "df"
   ]
  },
  {
   "cell_type": "code",
   "execution_count": 38,
   "id": "4aa9af42-61b2-4144-93f1-74f038ca1508",
   "metadata": {},
   "outputs": [
    {
     "data": {
      "text/plain": [
       "apparent_magnitude    0\n",
       "redshift              0\n",
       "dtype: int64"
      ]
     },
     "execution_count": 38,
     "metadata": {},
     "output_type": "execute_result"
    }
   ],
   "source": [
    "df.isna().sum() # Verifica na's"
   ]
  },
  {
   "cell_type": "code",
   "execution_count": 39,
   "id": "04a687ef-5409-483b-86b6-0c24fef30c2e",
   "metadata": {},
   "outputs": [
    {
     "name": "stdout",
     "output_type": "stream",
     "text": [
      "<class 'pandas.core.frame.DataFrame'>\n",
      "RangeIndex: 400 entries, 0 to 399\n",
      "Data columns (total 2 columns):\n",
      " #   Column              Non-Null Count  Dtype  \n",
      "---  ------              --------------  -----  \n",
      " 0   apparent_magnitude  400 non-null    float64\n",
      " 1   redshift            400 non-null    float64\n",
      "dtypes: float64(2)\n",
      "memory usage: 6.4 KB\n"
     ]
    },
    {
     "data": {
      "text/html": [
       "<div>\n",
       "<style scoped>\n",
       "    .dataframe tbody tr th:only-of-type {\n",
       "        vertical-align: middle;\n",
       "    }\n",
       "\n",
       "    .dataframe tbody tr th {\n",
       "        vertical-align: top;\n",
       "    }\n",
       "\n",
       "    .dataframe thead th {\n",
       "        text-align: right;\n",
       "    }\n",
       "</style>\n",
       "<table border=\"1\" class=\"dataframe\">\n",
       "  <thead>\n",
       "    <tr style=\"text-align: right;\">\n",
       "      <th></th>\n",
       "      <th>apparent_magnitude</th>\n",
       "      <th>redshift</th>\n",
       "    </tr>\n",
       "  </thead>\n",
       "  <tbody>\n",
       "    <tr>\n",
       "      <th>count</th>\n",
       "      <td>400.000000</td>\n",
       "      <td>400.000000</td>\n",
       "    </tr>\n",
       "    <tr>\n",
       "      <th>mean</th>\n",
       "      <td>16.647906</td>\n",
       "      <td>0.042865</td>\n",
       "    </tr>\n",
       "    <tr>\n",
       "      <th>std</th>\n",
       "      <td>1.025501</td>\n",
       "      <td>0.016882</td>\n",
       "    </tr>\n",
       "    <tr>\n",
       "      <th>min</th>\n",
       "      <td>14.004945</td>\n",
       "      <td>0.007873</td>\n",
       "    </tr>\n",
       "    <tr>\n",
       "      <th>25%</th>\n",
       "      <td>16.058557</td>\n",
       "      <td>0.029935</td>\n",
       "    </tr>\n",
       "    <tr>\n",
       "      <th>50%</th>\n",
       "      <td>16.893039</td>\n",
       "      <td>0.043526</td>\n",
       "    </tr>\n",
       "    <tr>\n",
       "      <th>75%</th>\n",
       "      <td>17.455681</td>\n",
       "      <td>0.056628</td>\n",
       "    </tr>\n",
       "    <tr>\n",
       "      <th>max</th>\n",
       "      <td>17.980166</td>\n",
       "      <td>0.077916</td>\n",
       "    </tr>\n",
       "  </tbody>\n",
       "</table>\n",
       "</div>"
      ],
      "text/plain": [
       "       apparent_magnitude    redshift\n",
       "count          400.000000  400.000000\n",
       "mean            16.647906    0.042865\n",
       "std              1.025501    0.016882\n",
       "min             14.004945    0.007873\n",
       "25%             16.058557    0.029935\n",
       "50%             16.893039    0.043526\n",
       "75%             17.455681    0.056628\n",
       "max             17.980166    0.077916"
      ]
     },
     "execution_count": 39,
     "metadata": {},
     "output_type": "execute_result"
    }
   ],
   "source": [
    "df.info()\n",
    "df.describe()"
   ]
  },
  {
   "cell_type": "markdown",
   "id": "a04fd68c-447a-4ae8-bb87-25b08bc819d6",
   "metadata": {},
   "source": [
    "En primera estancia podemos observar que la base de dotos no posee valores nulos y todos son de tipo flotante.\n",
    "Ademas, esta tiene un total de 400 Datos, para hacer predicciones de tipo LSTM puede que se requieran más datos.\n",
    "Tambien podemos ver que la media esta centrada en la magnitud, el rango de magnitudes va desde aproximadamente de 14 a 18, lo cual en astronomía indica que son objetos tenues o moderadamente brillantes y no aparecen outliers.\n",
    "Para el redshift se observa que los datos estan en un rango muy bajo lo que indica que las observaciones son del universo cercano, ademas como el corrimiento es bajo los efectos relativistas no dominan y se puede modelar de forma lineal el modelo.\n",
    "Finalmente vemos que con este Datset se puede validar la Ley de Hubble lineal $v = H_0*d$.\n",
    "\n"
   ]
  },
  {
   "cell_type": "markdown",
   "id": "f01b3c08-04f2-4a65-b9f5-16983a506220",
   "metadata": {},
   "source": [
    "## Grafica de Magnitud aparente vs Redshift"
   ]
  },
  {
   "cell_type": "code",
   "execution_count": 41,
   "id": "d00974de-7e47-43b1-9f33-090875934ded",
   "metadata": {},
   "outputs": [
    {
     "data": {
      "image/png": "[encoded data removed]",
      "text/plain": [
       "<Figure size 640x480 with 1 Axes>"
      ]
     },
     "metadata": {},
     "output_type": "display_data"
    }
   ],
   "source": [
    "plt.scatter(df[\"redshift\"], df[\"apparent_magnitude\"], alpha=0.7)\n",
    "plt.xlabel(\"Redshift (z)\")\n",
    "plt.ylabel(\"Apparent Magnitude\")\n",
    "plt.title(\"Hubble Law: Magnitude vs Redshift\")\n",
    "plt.grid(True)\n",
    "plt.show()"
   ]
  },
  {
   "cell_type": "markdown",
   "id": "0deaf57c-e364-42cd-8fcd-bbee06a46e22",
   "metadata": {},
   "source": [
    "En esta grafica se visualiza qu el eje X el redshift va desde 0.01 a 0.08 este quiere decir que la longitu de onda aumento del 1% hasta el 8% desde que fue emitida. En el eje y se muetra la magnitud aparente la cual va desde los 14 a 18.\n",
    "Lo que muestra la gráfica es que conforme el obejeto este mas lejano el redshift va aumentando.\n",
    "La tendencia de la grafica muestra que es creciente no es líneal, lo cual esperable dentro de la cosmología."
   ]
  },
  {
   "cell_type": "code",
   "execution_count": 42,
   "id": "c1592689-fb78-4d63-a207-f253366e31c6",
   "metadata": {},
   "outputs": [
    {
     "data": {
      "text/plain": [
       "array([[<Axes: title={'center': 'apparent_magnitude'}>,\n",
       "        <Axes: title={'center': 'redshift'}>, <Axes: >],\n",
       "       [<Axes: >, <Axes: >, <Axes: >],\n",
       "       [<Axes: >, <Axes: >, <Axes: >],\n",
       "       [<Axes: >, <Axes: >, <Axes: >]], dtype=object)"
      ]
     },
     "execution_count": 42,
     "metadata": {},
     "output_type": "execute_result"
    },
    {
     "data": {
      "image/png": "[encoded data removed]",
      "text/plain": [
       "<Figure size 3000x3000 with 12 Axes>"
      ]
     },
     "metadata": {},
     "output_type": "display_data"
    }
   ],
   "source": [
    "df.hist(figsize=(30,30), layout=(4,3), color='blue', grid= False)"
   ]
  },
  {
   "cell_type": "markdown",
   "id": "99aa539b-6000-490f-8fdd-3cb0ab7ef87f",
   "metadata": {},
   "source": [
    "En estos histogramas, notamos que para la magnitud aparente la distribución no es normal.\n",
    "Se ve que hay una mayor concentración en los objetos de magnitud 16 a 18, lo cual muestra que la mayoria de los objetos son lejanos.\n",
    "Para el redshift la distribución esta sesgada en forma de campana, con un pico entre 0.04 a 0.05 cuando el corrimiento es maypr a 0.07 se ve una caida muy notoria, lo que puede indicar una límitación en el telescopio o en el muestreo."
   ]
  },
  {
   "cell_type": "markdown",
   "id": "beac6370-d82b-4daf-85fb-e257c2cd9bb3",
   "metadata": {},
   "source": [
    "## Correlación"
   ]
  },
  {
   "cell_type": "code",
   "execution_count": 43,
   "id": "cf681444-6076-4027-994d-86e599cc1651",
   "metadata": {},
   "outputs": [
    {
     "name": "stdout",
     "output_type": "stream",
     "text": [
      "Correlación redshift - magnitud: 0.9633202084410457\n"
     ]
    }
   ],
   "source": [
    "correlation = df[\"redshift\"].corr(df[\"apparent_magnitude\"])\n",
    "print(\"Correlación redshift - magnitud:\", correlation)\n"
   ]
  },
  {
   "cell_type": "markdown",
   "id": "647aaa12-d807-4fe8-87fe-851e00e93a90",
   "metadata": {},
   "source": [
    "#### Aquí se observa que tanto el redshift y la magnitud aparente tienen una alta correlación, por tanto se pueden hacer predicciones aplicando modelos de RNN."
   ]
  },
  {
   "cell_type": "markdown",
   "id": "69f500e9-499e-4bd5-a2b7-af0079a7f5dc",
   "metadata": {},
   "source": [
    "# Preparación de datos para aplicar modelo de entrenamiento RNN/LSTM"
   ]
  },
  {
   "cell_type": "markdown",
   "id": "cab5834e-ea9f-43fd-a115-095149f491a4",
   "metadata": {},
   "source": [
    "## Crear secuencias para LSTM"
   ]
  },
  {
   "cell_type": "code",
   "execution_count": 44,
   "id": "7107feec-a5de-4b1a-857e-15e6e854ac29",
   "metadata": {},
   "outputs": [],
   "source": [
    "############# Escalado de datos ####################\n",
    "\n",
    "# Ordenar por redshift para mantener consistencia en series temporales\n",
    "df = df.sort_values('redshift').reset_index(drop=True)\n",
    "# Escalar ambos atributos\n",
    "scaler = MinMaxScaler()\n",
    "df_scaled = scaler.fit_transform(df[['apparent_magnitude', 'redshift']])\n",
    "\n",
    "# Crear secuencias de temporales, datos para el entrenamiento\n",
    "def create_dataset(data, time_steps=10):\n",
    "    X, y = [], []\n",
    "    for i in range(len(data) - time_steps):\n",
    "        # Solo usamos la magnitud aparente como entrada\n",
    "        X.append(data[i:i+time_steps, 0])  # columna 0 = magnitud aparente\n",
    "        y.append(data[i+time_steps, 1])    # columna 1 = redshift\n",
    "    return np.array(X), np.array(y)\n",
    "\n",
    "# Crear dataset\n",
    "X, y = create_dataset(df_scaled, time_steps=10)\n",
    "# Adaptar forma para LSTM: [muestras, pasos de tiempo, características]\n",
    "X = X.reshape((X.shape[0], X.shape[1], 1))\n"
   ]
  },
  {
   "cell_type": "markdown",
   "id": "e51abb68-bcf4-4e47-8561-6365a357df39",
   "metadata": {},
   "source": [
    "## Entrenamiento del modelo LSTM"
   ]
  },
  {
   "cell_type": "code",
   "execution_count": 45,
   "id": "9adef88e-c053-464a-9e51-702f9bc28bed",
   "metadata": {},
   "outputs": [
    {
     "name": "stderr",
     "output_type": "stream",
     "text": [
      "C:\\Users\\52221\\AppData\\Roaming\\Python\\Python311\\site-packages\\keras\\src\\layers\\rnn\\rnn.py:200: UserWarning:\n",
      "\n",
      "Do not pass an `input_shape`/`input_dim` argument to a layer. When using Sequential models, prefer using an `Input(shape)` object as the first layer in the model instead.\n",
      "\n"
     ]
    }
   ],
   "source": [
    "# Modelo LSTM\n",
    "model = Sequential([\n",
    "    LSTM(50, input_shape=(X.shape[1], X.shape[2]), return_sequences=True),  #return_sequences=True Devuelve salidas para cada paso (necesario para apilar LSTM)\n",
    "    Dropout(0.2), #evita el sobreajuste , apaga aleatoriamete el 20% de las neuronas durante el entrenamiento#\n",
    "    LSTM(100, return_sequences=False), #return sequences = False nos da la salid final y no toda la secuencia\n",
    "    Dense(1) #capa final densa\n",
    "])\n",
    "model.compile(optimizer=Adam(learning_rate=0.01), loss='mean_squared_error', metrics=['accuracy'])\n"
   ]
  },
  {
   "cell_type": "code",
   "execution_count": 46,
   "id": "cac87912-9771-4e3a-9901-02777f19e201",
   "metadata": {},
   "outputs": [
    {
     "data": {
      "text/html": [
       "<pre style=\"white-space:pre;overflow-x:auto;line-height:normal;font-family:Menlo,'DejaVu Sans Mono',consolas,'Courier New',monospace\"><span style=\"font-weight: bold\">Model: \"sequential_4\"</span>\n",
       "</pre>\n"
      ],
      "text/plain": [
       "\u001b[1mModel: \"sequential_4\"\u001b[0m\n"
      ]
     },
     "metadata": {},
     "output_type": "display_data"
    },
    {
     "data": {
      "text/html": [
       "<pre style=\"white-space:pre;overflow-x:auto;line-height:normal;font-family:Menlo,'DejaVu Sans Mono',consolas,'Courier New',monospace\">┏━━━━━━━━━━━━━━━━━━━━━━━━━━━━━━━━━━━━━━┳━━━━━━━━━━━━━━━━━━━━━━━━━━━━━┳━━━━━━━━━━━━━━━━━┓\n",
       "┃<span style=\"font-weight: bold\"> Layer (type)                         </span>┃<span style=\"font-weight: bold\"> Output Shape                </span>┃<span style=\"font-weight: bold\">         Param # </span>┃\n",
       "┡━━━━━━━━━━━━━━━━━━━━━━━━━━━━━━━━━━━━━━╇━━━━━━━━━━━━━━━━━━━━━━━━━━━━━╇━━━━━━━━━━━━━━━━━┩\n",
       "│ lstm_8 (<span style=\"color: #0087ff; text-decoration-color: #0087ff\">LSTM</span>)                        │ (<span style=\"color: #00d7ff; text-decoration-color: #00d7ff\">None</span>, <span style=\"color: #00af00; text-decoration-color: #00af00\">10</span>, <span style=\"color: #00af00; text-decoration-color: #00af00\">50</span>)              │          <span style=\"color: #00af00; text-decoration-color: #00af00\">10,400</span> │\n",
       "├──────────────────────────────────────┼─────────────────────────────┼─────────────────┤\n",
       "│ dropout_4 (<span style=\"color: #0087ff; text-decoration-color: #0087ff\">Dropout</span>)                  │ (<span style=\"color: #00d7ff; text-decoration-color: #00d7ff\">None</span>, <span style=\"color: #00af00; text-decoration-color: #00af00\">10</span>, <span style=\"color: #00af00; text-decoration-color: #00af00\">50</span>)              │               <span style=\"color: #00af00; text-decoration-color: #00af00\">0</span> │\n",
       "├──────────────────────────────────────┼─────────────────────────────┼─────────────────┤\n",
       "│ lstm_9 (<span style=\"color: #0087ff; text-decoration-color: #0087ff\">LSTM</span>)                        │ (<span style=\"color: #00d7ff; text-decoration-color: #00d7ff\">None</span>, <span style=\"color: #00af00; text-decoration-color: #00af00\">100</span>)                 │          <span style=\"color: #00af00; text-decoration-color: #00af00\">60,400</span> │\n",
       "├──────────────────────────────────────┼─────────────────────────────┼─────────────────┤\n",
       "│ dense_4 (<span style=\"color: #0087ff; text-decoration-color: #0087ff\">Dense</span>)                      │ (<span style=\"color: #00d7ff; text-decoration-color: #00d7ff\">None</span>, <span style=\"color: #00af00; text-decoration-color: #00af00\">1</span>)                   │             <span style=\"color: #00af00; text-decoration-color: #00af00\">101</span> │\n",
       "└──────────────────────────────────────┴─────────────────────────────┴─────────────────┘\n",
       "</pre>\n"
      ],
      "text/plain": [
       "┏━━━━━━━━━━━━━━━━━━━━━━━━━━━━━━━━━━━━━━┳━━━━━━━━━━━━━━━━━━━━━━━━━━━━━┳━━━━━━━━━━━━━━━━━┓\n",
       "┃\u001b[1m \u001b[0m\u001b[1mLayer (type)                        \u001b[0m\u001b[1m \u001b[0m┃\u001b[1m \u001b[0m\u001b[1mOutput Shape               \u001b[0m\u001b[1m \u001b[0m┃\u001b[1m \u001b[0m\u001b[1m        Param #\u001b[0m\u001b[1m \u001b[0m┃\n",
       "┡━━━━━━━━━━━━━━━━━━━━━━━━━━━━━━━━━━━━━━╇━━━━━━━━━━━━━━━━━━━━━━━━━━━━━╇━━━━━━━━━━━━━━━━━┩\n",
       "│ lstm_8 (\u001b[38;5;33mLSTM\u001b[0m)                        │ (\u001b[38;5;45mNone\u001b[0m, \u001b[38;5;34m10\u001b[0m, \u001b[38;5;34m50\u001b[0m)              │          \u001b[38;5;34m10,400\u001b[0m │\n",
       "├──────────────────────────────────────┼─────────────────────────────┼─────────────────┤\n",
       "│ dropout_4 (\u001b[38;5;33mDropout\u001b[0m)                  │ (\u001b[38;5;45mNone\u001b[0m, \u001b[38;5;34m10\u001b[0m, \u001b[38;5;34m50\u001b[0m)              │               \u001b[38;5;34m0\u001b[0m │\n",
       "├──────────────────────────────────────┼─────────────────────────────┼─────────────────┤\n",
       "│ lstm_9 (\u001b[38;5;33mLSTM\u001b[0m)                        │ (\u001b[38;5;45mNone\u001b[0m, \u001b[38;5;34m100\u001b[0m)                 │          \u001b[38;5;34m60,400\u001b[0m │\n",
       "├──────────────────────────────────────┼─────────────────────────────┼─────────────────┤\n",
       "│ dense_4 (\u001b[38;5;33mDense\u001b[0m)                      │ (\u001b[38;5;45mNone\u001b[0m, \u001b[38;5;34m1\u001b[0m)                   │             \u001b[38;5;34m101\u001b[0m │\n",
       "└──────────────────────────────────────┴─────────────────────────────┴─────────────────┘\n"
      ]
     },
     "metadata": {},
     "output_type": "display_data"
    },
    {
     "data": {
      "text/html": [
       "<pre style=\"white-space:pre;overflow-x:auto;line-height:normal;font-family:Menlo,'DejaVu Sans Mono',consolas,'Courier New',monospace\"><span style=\"font-weight: bold\"> Total params: </span><span style=\"color: #00af00; text-decoration-color: #00af00\">70,901</span> (276.96 KB)\n",
       "</pre>\n"
      ],
      "text/plain": [
       "\u001b[1m Total params: \u001b[0m\u001b[38;5;34m70,901\u001b[0m (276.96 KB)\n"
      ]
     },
     "metadata": {},
     "output_type": "display_data"
    },
    {
     "data": {
      "text/html": [
       "<pre style=\"white-space:pre;overflow-x:auto;line-height:normal;font-family:Menlo,'DejaVu Sans Mono',consolas,'Courier New',monospace\"><span style=\"font-weight: bold\"> Trainable params: </span><span style=\"color: #00af00; text-decoration-color: #00af00\">70,901</span> (276.96 KB)\n",
       "</pre>\n"
      ],
      "text/plain": [
       "\u001b[1m Trainable params: \u001b[0m\u001b[38;5;34m70,901\u001b[0m (276.96 KB)\n"
      ]
     },
     "metadata": {},
     "output_type": "display_data"
    },
    {
     "data": {
      "text/html": [
       "<pre style=\"white-space:pre;overflow-x:auto;line-height:normal;font-family:Menlo,'DejaVu Sans Mono',consolas,'Courier New',monospace\"><span style=\"font-weight: bold\"> Non-trainable params: </span><span style=\"color: #00af00; text-decoration-color: #00af00\">0</span> (0.00 B)\n",
       "</pre>\n"
      ],
      "text/plain": [
       "\u001b[1m Non-trainable params: \u001b[0m\u001b[38;5;34m0\u001b[0m (0.00 B)\n"
      ]
     },
     "metadata": {},
     "output_type": "display_data"
    }
   ],
   "source": [
    "model.summary()"
   ]
  },
  {
   "cell_type": "code",
   "execution_count": 47,
   "id": "a1c4acc9-b825-40d9-90ab-871e2c093ccb",
   "metadata": {},
   "outputs": [
    {
     "name": "stdout",
     "output_type": "stream",
     "text": [
      "Epoch 1/50\n",
      "\u001b[1m25/25\u001b[0m \u001b[32m━━━━━━━━━━━━━━━━━━━━\u001b[0m\u001b[37m\u001b[0m \u001b[1m17s\u001b[0m 33ms/step - accuracy: 0.0016 - loss: 0.0867\n",
      "Epoch 2/50\n",
      "\u001b[1m25/25\u001b[0m \u001b[32m━━━━━━━━━━━━━━━━━━━━\u001b[0m\u001b[37m\u001b[0m \u001b[1m1s\u001b[0m 33ms/step - accuracy: 2.9740e-04 - loss: 0.0066\n",
      "Epoch 3/50\n",
      "\u001b[1m25/25\u001b[0m \u001b[32m━━━━━━━━━━━━━━━━━━━━\u001b[0m\u001b[37m\u001b[0m \u001b[1m1s\u001b[0m 31ms/step - accuracy: 2.9740e-04 - loss: 0.0030\n",
      "Epoch 4/50\n",
      "\u001b[1m25/25\u001b[0m \u001b[32m━━━━━━━━━━━━━━━━━━━━\u001b[0m\u001b[37m\u001b[0m \u001b[1m1s\u001b[0m 30ms/step - accuracy: 1.9724e-04 - loss: 9.7429e-04\n",
      "Epoch 5/50\n",
      "\u001b[1m25/25\u001b[0m \u001b[32m━━━━━━━━━━━━━━━━━━━━\u001b[0m\u001b[37m\u001b[0m \u001b[1m1s\u001b[0m 31ms/step - accuracy: 0.0034 - loss: 7.6157e-04\n",
      "Epoch 6/50\n",
      "\u001b[1m25/25\u001b[0m \u001b[32m━━━━━━━━━━━━━━━━━━━━\u001b[0m\u001b[37m\u001b[0m \u001b[1m1s\u001b[0m 32ms/step - accuracy: 0.0034 - loss: 6.2470e-04\n",
      "Epoch 7/50\n",
      "\u001b[1m25/25\u001b[0m \u001b[32m━━━━━━━━━━━━━━━━━━━━\u001b[0m\u001b[37m\u001b[0m \u001b[1m1s\u001b[0m 31ms/step - accuracy: 0.0016 - loss: 0.0010    \n",
      "Epoch 8/50\n",
      "\u001b[1m25/25\u001b[0m \u001b[32m━━━━━━━━━━━━━━━━━━━━\u001b[0m\u001b[37m\u001b[0m \u001b[1m1s\u001b[0m 31ms/step - accuracy: 0.0027 - loss: 8.1346e-04\n",
      "Epoch 9/50\n",
      "\u001b[1m25/25\u001b[0m \u001b[32m━━━━━━━━━━━━━━━━━━━━\u001b[0m\u001b[37m\u001b[0m \u001b[1m1s\u001b[0m 32ms/step - accuracy: 7.4584e-04 - loss: 4.9764e-04\n",
      "Epoch 10/50\n",
      "\u001b[1m25/25\u001b[0m \u001b[32m━━━━━━━━━━━━━━━━━━━━\u001b[0m\u001b[37m\u001b[0m \u001b[1m1s\u001b[0m 32ms/step - accuracy: 0.0043 - loss: 8.8691e-04\n",
      "Epoch 11/50\n",
      "\u001b[1m25/25\u001b[0m \u001b[32m━━━━━━━━━━━━━━━━━━━━\u001b[0m\u001b[37m\u001b[0m \u001b[1m1s\u001b[0m 30ms/step - accuracy: 0.0020 - loss: 0.0015\n",
      "Epoch 12/50\n",
      "\u001b[1m25/25\u001b[0m \u001b[32m━━━━━━━━━━━━━━━━━━━━\u001b[0m\u001b[37m\u001b[0m \u001b[1m1s\u001b[0m 31ms/step - accuracy: 7.4584e-04 - loss: 7.9190e-04\n",
      "Epoch 13/50\n",
      "\u001b[1m25/25\u001b[0m \u001b[32m━━━━━━━━━━━━━━━━━━━━\u001b[0m\u001b[37m\u001b[0m \u001b[1m1s\u001b[0m 34ms/step - accuracy: 0.0015 - loss: 7.5144e-04 \n",
      "Epoch 14/50\n",
      "\u001b[1m25/25\u001b[0m \u001b[32m━━━━━━━━━━━━━━━━━━━━\u001b[0m\u001b[37m\u001b[0m \u001b[1m1s\u001b[0m 24ms/step - accuracy: 4.0191e-04 - loss: 5.4698e-04\n",
      "Epoch 15/50\n",
      "\u001b[1m25/25\u001b[0m \u001b[32m━━━━━━━━━━━━━━━━━━━━\u001b[0m\u001b[37m\u001b[0m \u001b[1m1s\u001b[0m 30ms/step - accuracy: 0.0025 - loss: 7.5428e-04\n",
      "Epoch 16/50\n",
      "\u001b[1m25/25\u001b[0m \u001b[32m━━━━━━━━━━━━━━━━━━━━\u001b[0m\u001b[37m\u001b[0m \u001b[1m1s\u001b[0m 29ms/step - accuracy: 0.0030 - loss: 3.4915e-04\n",
      "Epoch 17/50\n",
      "\u001b[1m25/25\u001b[0m \u001b[32m━━━━━━━━━━━━━━━━━━━━\u001b[0m\u001b[37m\u001b[0m \u001b[1m1s\u001b[0m 31ms/step - accuracy: 0.0027 - loss: 7.8897e-04\n",
      "Epoch 18/50\n",
      "\u001b[1m25/25\u001b[0m \u001b[32m━━━━━━━━━━━━━━━━━━━━\u001b[0m\u001b[37m\u001b[0m \u001b[1m1s\u001b[0m 34ms/step - accuracy: 0.0043 - loss: 6.0658e-04\n",
      "Epoch 19/50\n",
      "\u001b[1m25/25\u001b[0m \u001b[32m━━━━━━━━━━━━━━━━━━━━\u001b[0m\u001b[37m\u001b[0m \u001b[1m1s\u001b[0m 31ms/step - accuracy: 0.0016 - loss: 4.7964e-04 \n",
      "Epoch 20/50\n",
      "\u001b[1m25/25\u001b[0m \u001b[32m━━━━━━━━━━━━━━━━━━━━\u001b[0m\u001b[37m\u001b[0m \u001b[1m1s\u001b[0m 32ms/step - accuracy: 0.0038 - loss: 5.9574e-04\n",
      "Epoch 21/50\n",
      "\u001b[1m25/25\u001b[0m \u001b[32m━━━━━━━━━━━━━━━━━━━━\u001b[0m\u001b[37m\u001b[0m \u001b[1m1s\u001b[0m 30ms/step - accuracy: 0.0015 - loss: 3.1689e-04 \n",
      "Epoch 22/50\n",
      "\u001b[1m25/25\u001b[0m \u001b[32m━━━━━━━━━━━━━━━━━━━━\u001b[0m\u001b[37m\u001b[0m \u001b[1m1s\u001b[0m 28ms/step - accuracy: 0.0034 - loss: 5.8776e-04\n",
      "Epoch 23/50\n",
      "\u001b[1m25/25\u001b[0m \u001b[32m━━━━━━━━━━━━━━━━━━━━\u001b[0m\u001b[37m\u001b[0m \u001b[1m1s\u001b[0m 29ms/step - accuracy: 0.0015 - loss: 0.0010  \n",
      "Epoch 24/50\n",
      "\u001b[1m25/25\u001b[0m \u001b[32m━━━━━━━━━━━━━━━━━━━━\u001b[0m\u001b[37m\u001b[0m \u001b[1m1s\u001b[0m 30ms/step - accuracy: 0.0013 - loss: 4.6769e-04  \n",
      "Epoch 25/50\n",
      "\u001b[1m25/25\u001b[0m \u001b[32m━━━━━━━━━━━━━━━━━━━━\u001b[0m\u001b[37m\u001b[0m \u001b[1m1s\u001b[0m 31ms/step - accuracy: 0.0020 - loss: 3.4018e-04\n",
      "Epoch 26/50\n",
      "\u001b[1m25/25\u001b[0m \u001b[32m━━━━━━━━━━━━━━━━━━━━\u001b[0m\u001b[37m\u001b[0m \u001b[1m1s\u001b[0m 30ms/step - accuracy: 0.0034 - loss: 0.0014\n",
      "Epoch 27/50\n",
      "\u001b[1m25/25\u001b[0m \u001b[32m━━━━━━━━━━━━━━━━━━━━\u001b[0m\u001b[37m\u001b[0m \u001b[1m1s\u001b[0m 30ms/step - accuracy: 0.0030 - loss: 7.4874e-04\n",
      "Epoch 28/50\n",
      "\u001b[1m25/25\u001b[0m \u001b[32m━━━━━━━━━━━━━━━━━━━━\u001b[0m\u001b[37m\u001b[0m \u001b[1m1s\u001b[0m 31ms/step - accuracy: 0.0020 - loss: 3.3080e-04\n",
      "Epoch 29/50\n",
      "\u001b[1m25/25\u001b[0m \u001b[32m━━━━━━━━━━━━━━━━━━━━\u001b[0m\u001b[37m\u001b[0m \u001b[1m1s\u001b[0m 29ms/step - accuracy: 8.7236e-04 - loss: 2.6498e-04\n",
      "Epoch 30/50\n",
      "\u001b[1m25/25\u001b[0m \u001b[32m━━━━━━━━━━━━━━━━━━━━\u001b[0m\u001b[37m\u001b[0m \u001b[1m1s\u001b[0m 29ms/step - accuracy: 0.0034 - loss: 3.7095e-04\n",
      "Epoch 31/50\n",
      "\u001b[1m25/25\u001b[0m \u001b[32m━━━━━━━━━━━━━━━━━━━━\u001b[0m\u001b[37m\u001b[0m \u001b[1m1s\u001b[0m 33ms/step - accuracy: 0.0016 - loss: 2.8036e-04\n",
      "Epoch 32/50\n",
      "\u001b[1m25/25\u001b[0m \u001b[32m━━━━━━━━━━━━━━━━━━━━\u001b[0m\u001b[37m\u001b[0m \u001b[1m1s\u001b[0m 31ms/step - accuracy: 0.0027 - loss: 4.3140e-04\n",
      "Epoch 33/50\n",
      "\u001b[1m25/25\u001b[0m \u001b[32m━━━━━━━━━━━━━━━━━━━━\u001b[0m\u001b[37m\u001b[0m \u001b[1m1s\u001b[0m 30ms/step - accuracy: 0.0013 - loss: 7.7087e-04  \n",
      "Epoch 34/50\n",
      "\u001b[1m25/25\u001b[0m \u001b[32m━━━━━━━━━━━━━━━━━━━━\u001b[0m\u001b[37m\u001b[0m \u001b[1m1s\u001b[0m 32ms/step - accuracy: 0.0025 - loss: 2.9579e-04\n",
      "Epoch 35/50\n",
      "\u001b[1m25/25\u001b[0m \u001b[32m━━━━━━━━━━━━━━━━━━━━\u001b[0m\u001b[37m\u001b[0m \u001b[1m1s\u001b[0m 30ms/step - accuracy: 0.0069 - loss: 3.5770e-04\n",
      "Epoch 36/50\n",
      "\u001b[1m25/25\u001b[0m \u001b[32m━━━━━━━━━━━━━━━━━━━━\u001b[0m\u001b[37m\u001b[0m \u001b[1m1s\u001b[0m 30ms/step - accuracy: 0.0043 - loss: 3.2119e-04\n",
      "Epoch 37/50\n",
      "\u001b[1m25/25\u001b[0m \u001b[32m━━━━━━━━━━━━━━━━━━━━\u001b[0m\u001b[37m\u001b[0m \u001b[1m1s\u001b[0m 29ms/step - accuracy: 8.7236e-04 - loss: 2.4661e-04\n",
      "Epoch 38/50\n",
      "\u001b[1m25/25\u001b[0m \u001b[32m━━━━━━━━━━━━━━━━━━━━\u001b[0m\u001b[37m\u001b[0m \u001b[1m1s\u001b[0m 28ms/step - accuracy: 5.1118e-04 - loss: 2.1260e-04\n",
      "Epoch 39/50\n",
      "\u001b[1m25/25\u001b[0m \u001b[32m━━━━━━━━━━━━━━━━━━━━\u001b[0m\u001b[37m\u001b[0m \u001b[1m1s\u001b[0m 32ms/step - accuracy: 0.0043 - loss: 4.3910e-04\n",
      "Epoch 40/50\n",
      "\u001b[1m25/25\u001b[0m \u001b[32m━━━━━━━━━━━━━━━━━━━━\u001b[0m\u001b[37m\u001b[0m \u001b[1m1s\u001b[0m 30ms/step - accuracy: 8.7236e-04 - loss: 3.5366e-04\n",
      "Epoch 41/50\n",
      "\u001b[1m25/25\u001b[0m \u001b[32m━━━━━━━━━━━━━━━━━━━━\u001b[0m\u001b[37m\u001b[0m \u001b[1m1s\u001b[0m 30ms/step - accuracy: 0.0038 - loss: 9.8758e-04\n",
      "Epoch 42/50\n",
      "\u001b[1m25/25\u001b[0m \u001b[32m━━━━━━━━━━━━━━━━━━━━\u001b[0m\u001b[37m\u001b[0m \u001b[1m1s\u001b[0m 30ms/step - accuracy: 1.9724e-04 - loss: 3.3203e-04\n",
      "Epoch 43/50\n",
      "\u001b[1m25/25\u001b[0m \u001b[32m━━━━━━━━━━━━━━━━━━━━\u001b[0m\u001b[37m\u001b[0m \u001b[1m1s\u001b[0m 32ms/step - accuracy: 6.2565e-04 - loss: 9.9330e-04\n",
      "Epoch 44/50\n",
      "\u001b[1m25/25\u001b[0m \u001b[32m━━━━━━━━━━━━━━━━━━━━\u001b[0m\u001b[37m\u001b[0m \u001b[1m1s\u001b[0m 31ms/step - accuracy: 0.0016 - loss: 6.3011e-04\n",
      "Epoch 45/50\n",
      "\u001b[1m25/25\u001b[0m \u001b[32m━━━━━━━━━━━━━━━━━━━━\u001b[0m\u001b[37m\u001b[0m \u001b[1m1s\u001b[0m 30ms/step - accuracy: 0.0034 - loss: 3.8587e-04\n",
      "Epoch 46/50\n",
      "\u001b[1m25/25\u001b[0m \u001b[32m━━━━━━━━━━━━━━━━━━━━\u001b[0m\u001b[37m\u001b[0m \u001b[1m1s\u001b[0m 31ms/step - accuracy: 0.0022 - loss: 7.9539e-04\n",
      "Epoch 47/50\n",
      "\u001b[1m25/25\u001b[0m \u001b[32m━━━━━━━━━━━━━━━━━━━━\u001b[0m\u001b[37m\u001b[0m \u001b[1m1s\u001b[0m 33ms/step - accuracy: 0.0013 - loss: 2.8195e-04  \n",
      "Epoch 48/50\n",
      "\u001b[1m25/25\u001b[0m \u001b[32m━━━━━━━━━━━━━━━━━━━━\u001b[0m\u001b[37m\u001b[0m \u001b[1m1s\u001b[0m 29ms/step - accuracy: 0.0057 - loss: 3.5119e-04\n",
      "Epoch 49/50\n",
      "\u001b[1m25/25\u001b[0m \u001b[32m━━━━━━━━━━━━━━━━━━━━\u001b[0m\u001b[37m\u001b[0m \u001b[1m1s\u001b[0m 30ms/step - accuracy: 0.0069 - loss: 3.5357e-04\n",
      "Epoch 50/50\n",
      "\u001b[1m25/25\u001b[0m \u001b[32m━━━━━━━━━━━━━━━━━━━━\u001b[0m\u001b[37m\u001b[0m \u001b[1m1s\u001b[0m 31ms/step - accuracy: 0.0022 - loss: 2.4779e-04\n"
     ]
    }
   ],
   "source": [
    "# Entrenar el modelo\n",
    "history = model.fit(X, y, epochs=50, batch_size=16, verbose=1)"
   ]
  },
  {
   "cell_type": "markdown",
   "id": "3d2243ee-18fe-4d1f-b35d-1caae91834d3",
   "metadata": {},
   "source": [
    "#### Despues de realizar el entrenamiento notamos que en las 50 epocas el accuracy no tuvo ningun acercamiento a 1, lo que puede indicar que la red no se este entrenando adecuadamente, pero tambien vemos hay muy poca perdida en cada capa. Puede ser que no sean suficientes datos para el entrenamiento y se requieran más para mejorar el entrenamiento."
   ]
  },
  {
   "cell_type": "markdown",
   "id": "1f870a66-93e0-4407-8421-08985697b7e1",
   "metadata": {},
   "source": [
    "## Predicciones"
   ]
  },
  {
   "cell_type": "code",
   "execution_count": 48,
   "id": "4dbbc3c0-e5f3-4e08-838e-135310f116b0",
   "metadata": {},
   "outputs": [
    {
     "name": "stdout",
     "output_type": "stream",
     "text": [
      "\u001b[1m13/13\u001b[0m \u001b[32m━━━━━━━━━━━━━━━━━━━━\u001b[0m\u001b[37m\u001b[0m \u001b[1m3s\u001b[0m 112ms/step\n"
     ]
    }
   ],
   "source": [
    "# Hacer predicciones\n",
    "pred_scaled = model.predict(X)\n",
    "\n",
    "# Reconstruir el array para invertir el escalado\n",
    "# Insertamos las predicciones en la columna 1 (redshift)\n",
    "zeros = np.zeros((len(pred_scaled), 2))\n",
    "zeros[:, 1] = pred_scaled[:, 0]\n",
    "\n",
    "# Invertimos escalado\n",
    "pred_inv = scaler.inverse_transform(zeros)\n",
    "pred_redshift = pred_inv[:, 1]\n",
    "\n",
    "# También invertimos los valores reales de redshift para comparar\n",
    "y_full = np.zeros((len(y), 2))\n",
    "y_full[:, 1] = y\n",
    "y_real = scaler.inverse_transform(y_full)[:, 1]\n"
   ]
  },
  {
   "cell_type": "code",
   "execution_count": 49,
   "id": "636af48b-8745-4b75-9d92-28ccac5a9d19",
   "metadata": {},
   "outputs": [
    {
     "data": {
      "image/png": "[encoded data removed]",
      "text/plain": [
       "<Figure size 640x480 with 1 Axes>"
      ]
     },
     "metadata": {},
     "output_type": "display_data"
    }
   ],
   "source": [
    "import matplotlib.pyplot as plt\n",
    "\n",
    "plt.plot(pred_redshift, label='Predicción')\n",
    "plt.plot(y_real, label='Redshift real')\n",
    "plt.legend()\n",
    "plt.title(\"Predicción de Redshift a partir de Magnitud Aparente\")\n",
    "plt.xlabel(\"Índice\")\n",
    "plt.ylabel(\"Redshift\")\n",
    "plt.show()\n"
   ]
  },
  {
   "cell_type": "code",
   "execution_count": 50,
   "id": "fa2e8d34-1d9c-49da-9793-8617daa60113",
   "metadata": {},
   "outputs": [
    {
     "name": "stdout",
     "output_type": "stream",
     "text": [
      "R² score: 0.9979\n"
     ]
    }
   ],
   "source": [
    "\n",
    "r2 = r2_score(y_real, pred_redshift)\n",
    "print(f\"R² score: {r2:.4f}\")\n"
   ]
  },
  {
   "cell_type": "markdown",
   "id": "dd9ef771-c903-4cdc-bf6b-e784b7e3da9f",
   "metadata": {},
   "source": [
    "### El valor de R^2 nos indica si el entrenamiento fue adeacuado, ya que esta cercano a 1, nos indica que el entrenamiento fue muy bueno. Por lo que el modelo explica el 99.79% de la variación en el redshift basado en la magnitud aparente."
   ]
  },
  {
   "cell_type": "code",
   "execution_count": 59,
   "id": "dd0d7808-59ae-480f-86cd-a082ffaaf5bc",
   "metadata": {},
   "outputs": [
    {
     "data": {
      "application/vnd.plotly.v1+json": {
       "config": {
        "plotlyServerURL": "https://plot.ly"
       },
       "data": [
        {
         "line": {
          "color": "blue"
         },
         "mode": "lines",
         "name": "Redshift real",
         "type": "scatter",
         "y": [
          0.0136568136909405,
          0.0137303847616806,
          0.0137422004188361,
          0.0137950000941886,
          0.0142705790693018,
          0.014418044398624,
          0.014542488280482,
          0.0146049047214413,
          0.0146675888242413,
          0.0149325284122,
          0.014946037410595,
          0.0149589846167043,
          0.0149979082519052,
          0.0151813265950043,
          0.0151846218575256,
          0.0152246806390591,
          0.0156320230005286,
          0.0159131225850088,
          0.0159527613562512,
          0.0169591087986904,
          0.0172616152394015,
          0.0172789989924321,
          0.0180289986518607,
          0.0180992435742124,
          0.0183357675756943,
          0.0183538206294371,
          0.0183570646407674,
          0.0185125829162797,
          0.0185433482149402,
          0.018599523055726503,
          0.0187306332242268,
          0.0190308334382827,
          0.0191424593278848,
          0.019215543285092,
          0.0192926851988237,
          0.019444430565716,
          0.0198723894321702,
          0.019873943058834498,
          0.0199009823143436,
          0.0201649111045207,
          0.0205174057157314,
          0.0207209786407421,
          0.0209100413147882,
          0.0210928858700122,
          0.0212674172341293,
          0.0217648533361698,
          0.0218860309875989,
          0.0219561322759352,
          0.0219919079438632,
          0.0223621510840616,
          0.0223710696653213,
          0.0224343186373774,
          0.0224541475423864,
          0.0225310364276944,
          0.0225712457473877,
          0.022773479074154,
          0.0231285158747077,
          0.023149156422804098,
          0.0234392947109096,
          0.0237234688084852,
          0.0237607851078989,
          0.0240770166210411,
          0.024237948746799305,
          0.0244035949135766,
          0.024421324122974,
          0.0244589815934917,
          0.0245843369216986,
          0.0246500124357513,
          0.0247551804309466,
          0.0248432311613318,
          0.025004065183626,
          0.0258547791262685,
          0.0261701391495204,
          0.0262867716809137,
          0.0267455807785932,
          0.0268272501793776,
          0.0270906416319055,
          0.0270953919229485,
          0.0275242541266501,
          0.0275317790224292,
          0.0284643483896831,
          0.0285131280900888,
          0.0286023044308402,
          0.0287498479391628,
          0.0289803203740113,
          0.029090513540234095,
          0.0291807099446284,
          0.0296336442960037,
          0.0297343059157876,
          0.029738579804744,
          0.0300010745161826,
          0.0302337336831766,
          0.0302380319219785,
          0.030317909568805704,
          0.030387301043049198,
          0.0304139247054522,
          0.0305599377410913,
          0.0307556021582465,
          0.0309734524576554,
          0.031239890777884,
          0.0314979112807942,
          0.0315486705323017,
          0.0316018985906872,
          0.0318135754826195,
          0.0328017105392811,
          0.0328299500766295,
          0.0328410876319184,
          0.0330590787624207,
          0.0330785122562862,
          0.0330819535835148,
          0.0332067837236713,
          0.0332985505663181,
          0.0333959596934803,
          0.0334894566666068,
          0.0335521055206361,
          0.0338084848223198,
          0.0338478894977934,
          0.0340480202732547,
          0.0340640735199767,
          0.0342922753488406,
          0.0344389628618399,
          0.0346438747752617,
          0.0347490027669412,
          0.0347804742378304,
          0.034815142880687,
          0.0348228408415148,
          0.0349262904543542,
          0.0349978387886328,
          0.0349997442482002,
          0.0355214982753953,
          0.0355492466390228,
          0.0357622021511359,
          0.0358254157109488,
          0.0358596471982594,
          0.0362209160923644,
          0.0362466099109173,
          0.0364191358372514,
          0.036765862632834,
          0.0368314691100727,
          0.0372191689229965,
          0.037380794525419495,
          0.0375176854779252,
          0.0376188328561318,
          0.03764766672298729,
          0.0376546556838729,
          0.0376546666124437,
          0.0377646809794462,
          0.0379076615249798,
          0.038078509316438,
          0.0381075982844744,
          0.0381095458237037,
          0.0386147268046519,
          0.0387365280753513,
          0.0389281796915217,
          0.0389990511098587,
          0.0390467675406859,
          0.0392722324354819,
          0.0393057789568538,
          0.0393060693932629,
          0.0393518277357409,
          0.0394409436957985,
          0.0395396338608339,
          0.0398713146712397,
          0.03996939029580699,
          0.0402363672458349,
          0.040526185304066896,
          0.0406248851176761,
          0.0411937202760411,
          0.041296029802072,
          0.0413560415174436,
          0.0414306933837467,
          0.0414842726329537,
          0.041541765817173,
          0.0415791768664107,
          0.0416037756031974,
          0.0418831216340941,
          0.0421317390781166,
          0.042181408013728,
          0.0422580465360779,
          0.0423067560350939,
          0.0425073056890349,
          0.0425233069908809,
          0.0425476977878869,
          0.0425493643624187,
          0.042726943213441594,
          0.0427427928219251,
          0.0429565465812368,
          0.0431057176709326,
          0.0432138121033789,
          0.0432505009591916,
          0.0438014865081091,
          0.044018465860320606,
          0.0440639257867006,
          0.0441488470032661,
          0.0441855568199837,
          0.0441989323292945,
          0.0442080574197195,
          0.044267394590045,
          0.0444175039880713,
          0.0444190294452475,
          0.0448046351118269,
          0.0448881843535583,
          0.0450567724732664,
          0.0450749763897238,
          0.0454886934656029,
          0.0454996425263502,
          0.045510957838398494,
          0.0455296155728934,
          0.04557303437411779,
          0.0456319862169712,
          0.0458762755265693,
          0.0459451379778492,
          0.0460968211165473,
          0.0461348938196349,
          0.0461629660183392,
          0.0462657218754877,
          0.0465136641254817,
          0.04697426463123609,
          0.0471109995107197,
          0.0473276437532494,
          0.047370101159396,
          0.047614563356857,
          0.047635596094463,
          0.0476436099514515,
          0.0476984801152462,
          0.0477083478092432,
          0.0478571565352631,
          0.047897755641774,
          0.0479221598988213,
          0.0479368369915159,
          0.0481647947266316,
          0.048434454432538,
          0.048734811030938,
          0.0487451213825214,
          0.0488775387965313,
          0.0491492562092677,
          0.0492241418605816,
          0.0493245109961452,
          0.0493973356761711,
          0.0494978863715859,
          0.0497101161581731,
          0.049733500137527,
          0.049860328346764,
          0.05008714766157,
          0.0501126418212069,
          0.0501631270882688,
          0.050259234874073,
          0.0503719455623981,
          0.0504220493187367,
          0.0504361006724433,
          0.0504626838667955,
          0.0505489439283274,
          0.0512606411620641,
          0.0513205795821337,
          0.0513797780865477,
          0.0515929662743542,
          0.0516220501840576,
          0.0517296941394151,
          0.0517455629954458,
          0.051910194495371695,
          0.0521118181396922,
          0.0525404451723592,
          0.0525518036751149,
          0.052880006778324,
          0.0529321648674437,
          0.0530725217699271,
          0.0530977742420583,
          0.0532156156694818,
          0.053216473010627,
          0.0534126054141026,
          0.0534153138097623,
          0.0536731232146775,
          0.053712722187454,
          0.0537604206043561,
          0.0538930697018466,
          0.0543020741213874,
          0.0544406981021187,
          0.05457936651769289,
          0.0546236215037055,
          0.0548804833165887,
          0.0553132151114695,
          0.0555588310336685,
          0.0556160171034644,
          0.0557031519010694,
          0.0557427731653777,
          0.055874422077509,
          0.0561727361754847,
          0.0562001909828224,
          0.0564758704345043,
          0.05660359554419311,
          0.0567014274652083,
          0.056760129948285,
          0.0567776682614132,
          0.0569190843912846,
          0.0569472621931181,
          0.0571030275240972,
          0.0571796603770256,
          0.0572812810812162,
          0.057394608553038906,
          0.057564259346115,
          0.05762540491665061,
          0.0576827260833588,
          0.0578398892523225,
          0.0578564598690947,
          0.0581438147429631,
          0.058197065437503595,
          0.0587668763667952,
          0.0587868169428215,
          0.0589036836941219,
          0.0592172845369706,
          0.0593064283690005,
          0.0594863645717508,
          0.0596574447540477,
          0.0598679844402574,
          0.059968167511608404,
          0.0601635722470631,
          0.0602441430815378,
          0.0603651736758672,
          0.0605016616889531,
          0.0605659124550901,
          0.0606310950403294,
          0.0606323212683305,
          0.0608720807697355,
          0.0609518896218851,
          0.0612503674322436,
          0.0614500456840329,
          0.06146824199416281,
          0.0614978930456734,
          0.0617044267157049,
          0.0618356310190283,
          0.0622901525756496,
          0.0624710497682699,
          0.0625788215568939,
          0.0626585450294314,
          0.0630678851709092,
          0.0636468517484052,
          0.0636598609218695,
          0.0637430803403237,
          0.0641984233213075,
          0.0645340697267134,
          0.0646755955914226,
          0.0656619838972927,
          0.0660537323050707,
          0.066178575975043,
          0.066261686304198,
          0.0663159933715148,
          0.0663542574481199,
          0.0664211773651091,
          0.0666004162617935,
          0.066722185762324,
          0.0667805497921926,
          0.0668094885164523,
          0.0669484235476768,
          0.0671800388905412,
          0.067668896141537,
          0.0677033276162695,
          0.0680070160225382,
          0.0681591961459408,
          0.0682086954393368,
          0.0683461178315573,
          0.0684238103340767,
          0.0686343596678993,
          0.0686905181301792,
          0.0687447349844568,
          0.0688084396852108,
          0.0688267633192814,
          0.0688366014614551,
          0.0688781367777464,
          0.0688879379447083,
          0.0691701615058866,
          0.0691787615054776,
          0.0695110557429779,
          0.0697760355432441,
          0.0699464839791314,
          0.0699695023251448,
          0.0699878761054121,
          0.0700564184798557,
          0.070136582146078,
          0.0701527269567112,
          0.0704259571606531,
          0.0707041954462303,
          0.0711984344298425,
          0.0712561027185165,
          0.0712694471500792,
          0.071346395087655,
          0.0714458176537931,
          0.0719462313106203,
          0.0723462940019478,
          0.0725600053587447,
          0.0779162861425208
         ]
        },
        {
         "line": {
          "color": "red"
         },
         "mode": "lines",
         "name": "Predicción",
         "type": "scatter",
         "y": [
          0.012609052704856238,
          0.013123822844516686,
          0.013398426898856366,
          0.013684033986061552,
          0.01391370168340303,
          0.013950349235098499,
          0.01418108101819281,
          0.014195943253678333,
          0.01459947285631647,
          0.014945118594586207,
          0.015453401412033076,
          0.01540184570060184,
          0.01554603062477714,
          0.015707688682437687,
          0.01585245600960473,
          0.01602313974803785,
          0.016190432398083564,
          0.016402000722163728,
          0.01644310240426648,
          0.016486688170814296,
          0.016604038720585107,
          0.01671086478905262,
          0.017022453520833886,
          0.01744885287822753,
          0.017768130790725947,
          0.01823035106331065,
          0.01854086370641004,
          0.01886037959002336,
          0.01895371958491326,
          0.019465836555389106,
          0.019332557075047538,
          0.01958956901034452,
          0.019572256611735134,
          0.019917722827935736,
          0.01872936918513708,
          0.018449056955238543,
          0.01875489158721071,
          0.018653724638852925,
          0.018948141875974423,
          0.019110236735878774,
          0.019803067718534417,
          0.019916348231627266,
          0.01989848474201494,
          0.02016056400083327,
          0.020935689152461943,
          0.01975033728565657,
          0.020234330871522183,
          0.02040020300100918,
          0.020757466530857933,
          0.021113668584286246,
          0.02137169607175342,
          0.021409128510634895,
          0.022108982772379136,
          0.0223738164424792,
          0.02156178906831279,
          0.022432763348867475,
          0.022832350250248788,
          0.022686491700271948,
          0.022840595740633678,
          0.02248374031037233,
          0.023575440106132727,
          0.024001669335053873,
          0.02400547478542644,
          0.024389924427687244,
          0.025063955692265338,
          0.0251948043185428,
          0.025285179068093022,
          0.025700887468776235,
          0.02585049197634692,
          0.02587989393383329,
          0.025556724984859575,
          0.025606544446511663,
          0.025289103504023046,
          0.025238100449194188,
          0.024539205378040295,
          0.024831451650604755,
          0.025064286555613692,
          0.02557337461303929,
          0.0257191214835894,
          0.026257036401640343,
          0.026693606936730282,
          0.02752128926156542,
          0.028131726920616818,
          0.02875184207167438,
          0.029412804755858907,
          0.02963639740550605,
          0.03018559716432173,
          0.0302463653847254,
          0.0305365252351026,
          0.030651256537010004,
          0.03138447685402312,
          0.031375970430398206,
          0.031525240943421656,
          0.031538523489072046,
          0.03157876565708214,
          0.03230903429728406,
          0.03225159975995499,
          0.03216145671912191,
          0.031913622327743196,
          0.03156125390547738,
          0.031136016222868337,
          0.031153903718338746,
          0.03121417720931932,
          0.03132287364725136,
          0.031713321622833926,
          0.03157544449880306,
          0.03191328833319596,
          0.03243854485790666,
          0.032926934647000264,
          0.033340060852340155,
          0.033352433262849326,
          0.03303784379880774,
          0.033072399709651146,
          0.03315646613719045,
          0.03313030183934634,
          0.03326106070458924,
          0.03381457734292795,
          0.033980635256881844,
          0.034156813205617,
          0.03431831209400112,
          0.03451967323159787,
          0.034909152622993454,
          0.034952338117951065,
          0.0350192330508306,
          0.03513289139525501,
          0.03520643281962454,
          0.03502828221559477,
          0.03518448102800745,
          0.03426710238004616,
          0.03415777761487214,
          0.03429450454518096,
          0.034416604601786756,
          0.034730878858474395,
          0.03550450207837347,
          0.03605269776608152,
          0.036400976842609616,
          0.03674517074833184,
          0.03704616663430092,
          0.037879875473247754,
          0.03791931605434448,
          0.03775600942047344,
          0.03770677862421085,
          0.03784780782178126,
          0.037558606118261444,
          0.03766978872810447,
          0.03795091193851301,
          0.03808013860377046,
          0.038142570534512546,
          0.03829589490635307,
          0.03839732070048497,
          0.038605733297960236,
          0.038931937422381956,
          0.03892886049761554,
          0.03877504765874969,
          0.038992469759136644,
          0.03908029362533235,
          0.03867997611087896,
          0.03873299774525267,
          0.03875434417175289,
          0.03884342051750073,
          0.03885761528575826,
          0.038831630509983305,
          0.03918915079814024,
          0.03963633609743453,
          0.03963687466364194,
          0.039864349999900704,
          0.04047202802900557,
          0.04050824973765331,
          0.04088040316191102,
          0.04138260571299876,
          0.041749402699705174,
          0.04207617878978904,
          0.04218619659364858,
          0.042516066308226214,
          0.042605163528633264,
          0.042677844917043656,
          0.04268244151699999,
          0.04278938239609312,
          0.042580063838408476,
          0.0423700397172428,
          0.042786276246803825,
          0.0428626816744159,
          0.04303174971422676,
          0.043107716773995594,
          0.04333191061382776,
          0.043343295652956665,
          0.04343744454089066,
          0.04360543127335484,
          0.043739438235569604,
          0.04360703444718157,
          0.04328231659849505,
          0.04338324557573793,
          0.043441728020958956,
          0.04355481022478939,
          0.04372109775999451,
          0.043765114066388375,
          0.04386338778698073,
          0.043772345048336034,
          0.044032380678018464,
          0.04444315639673218,
          0.044914669023860765,
          0.04528648010370757,
          0.04547592181089983,
          0.04573322286022676,
          0.04548992035736085,
          0.04542568068113185,
          0.04543423929140477,
          0.04544959469071395,
          0.045398167880303285,
          0.04542280832802562,
          0.045224077397488356,
          0.045390081037328334,
          0.045667041840691945,
          0.045788432158884874,
          0.04641738981558051,
          0.04680352926150373,
          0.04670903802915882,
          0.04663761747016425,
          0.04679136351012066,
          0.04699787651360852,
          0.047163529459173896,
          0.047194490753702675,
          0.04729999545624269,
          0.047525663047014534,
          0.047576572165876976,
          0.047673326211279406,
          0.047849629407969774,
          0.048200336207363095,
          0.04815075054189407,
          0.04829701092906056,
          0.048370402055883825,
          0.04862021327748899,
          0.04877977082256731,
          0.04880085840329343,
          0.04883256701062164,
          0.04883312227655642,
          0.04894761143241708,
          0.04880729197325956,
          0.04875551029364246,
          0.04878698092985577,
          0.04881865613772927,
          0.04892077497054667,
          0.0489868850162402,
          0.049284979324580175,
          0.04965286596849695,
          0.04980592731963153,
          0.04995586164681761,
          0.05035645470677247,
          0.050522379022907474,
          0.050647806500190115,
          0.051007689799768746,
          0.05113948822303992,
          0.05137272079030666,
          0.05158168030385302,
          0.0516972758166514,
          0.05187717780458823,
          0.05237509270067582,
          0.05275194709818588,
          0.05293121449648297,
          0.053223430500791584,
          0.05322067504577689,
          0.05341064279438105,
          0.05346696679984056,
          0.05346560159712873,
          0.053627826923653095,
          0.05356912320704453,
          0.05310632366266696,
          0.05316059360166097,
          0.05302334271740618,
          0.05274977613362885,
          0.05266858205919578,
          0.05288163718087762,
          0.0531630735111742,
          0.053434356407234804,
          0.05389995733087731,
          0.054251674463776024,
          0.05452720326551836,
          0.05477156620107174,
          0.05546613291164005,
          0.05497959470481768,
          0.05471075831881559,
          0.05413574495643041,
          0.05388531166998101,
          0.05402127667522895,
          0.054222103421550115,
          0.05453733165016329,
          0.0550298191348583,
          0.05556409351234437,
          0.0559679346692711,
          0.05700880362614106,
          0.05715983596040118,
          0.05728427815376947,
          0.057428392625969965,
          0.05711445445129549,
          0.057119911087210956,
          0.05715924729501168,
          0.057207526206814636,
          0.05729665682667641,
          0.05743035484393498,
          0.057795302335836074,
          0.057899091141389664,
          0.058084917357608096,
          0.05834972493438416,
          0.058580039224294424,
          0.058790034120937223,
          0.05908979840201337,
          0.05932103535186038,
          0.05958573020547675,
          0.059717683101226014,
          0.05983729072352307,
          0.06007347496760101,
          0.06017525980587118,
          0.060005861946444916,
          0.06016402923922037,
          0.060313266352789094,
          0.060475921697293024,
          0.060616474952633614,
          0.0607419066048481,
          0.06063066972089115,
          0.06072288144045117,
          0.06067871483651105,
          0.06098163119112674,
          0.06114788950180898,
          0.06118807322077331,
          0.061226708040024835,
          0.061348173506990886,
          0.061475245907418666,
          0.06172901078947674,
          0.06236775448640639,
          0.062496505209434026,
          0.06273531131070777,
          0.06292598044786113,
          0.06320526668825986,
          0.06342048442463506,
          0.06360125897332655,
          0.06378228401792847,
          0.06401882730614468,
          0.06415013308745868,
          0.06437094940743192,
          0.06457567136516022,
          0.06468583529163419,
          0.06524507576152615,
          0.06564356465583342,
          0.06630166751170724,
          0.06664293061527746,
          0.06684412475560059,
          0.06718684491038313,
          0.0674004803475908,
          0.06754653198816526,
          0.06765420765526231,
          0.06763197196828007,
          0.06721743046104627,
          0.06726431912054637,
          0.06734955452900099,
          0.06747805893105004,
          0.06780691413719045,
          0.06791381326696518,
          0.06817544372061066,
          0.06855997999270715,
          0.06878400266033385,
          0.06894143934003723,
          0.06891736250811335,
          0.06894693355033925,
          0.06894312601250076,
          0.06896972867818811,
          0.06891801379748046,
          0.06882641579290098,
          0.06871576757433354,
          0.06858731327146657,
          0.06880957829278844,
          0.06917789077975295,
          0.06963861955793765,
          0.06971809356045246,
          0.06991277480710449,
          0.07001409622794037,
          0.07015734648924989,
          0.07050886740035209,
          0.07069657651083057,
          0.07058707639851924,
          0.07062609113656824,
          0.07071738854605521,
          0.07067940501617079,
          0.07083204052425765,
          0.07088616851556909,
          0.07113020163150706,
          0.07117352489921541,
          0.07117383384417161,
          0.0713590880947279,
          0.07145513240171746,
          0.07151665002238648
         ]
        }
       ],
       "layout": {
        "autosize": true,
        "template": {
         "data": {
          "bar": [
           {
            "error_x": {
             "color": "#f2f5fa"
            },
            "error_y": {
             "color": "#f2f5fa"
            },
            "marker": {
             "line": {
              "color": "rgb(17,17,17)",
              "width": 0.5
             },
             "pattern": {
              "fillmode": "overlay",
              "size": 10,
              "solidity": 0.2
             }
            },
            "type": "bar"
           }
          ],
          "barpolar": [
           {
            "marker": {
             "line": {
              "color": "rgb(17,17,17)",
              "width": 0.5
             },
             "pattern": {
              "fillmode": "overlay",
              "size": 10,
              "solidity": 0.2
             }
            },
            "type": "barpolar"
           }
          ],
          "carpet": [
           {
            "aaxis": {
             "endlinecolor": "#A2B1C6",
             "gridcolor": "#506784",
             "linecolor": "#506784",
             "minorgridcolor": "#506784",
             "startlinecolor": "#A2B1C6"
            },
            "baxis": {
             "endlinecolor": "#A2B1C6",
             "gridcolor": "#506784",
             "linecolor": "#506784",
             "minorgridcolor": "#506784",
             "startlinecolor": "#A2B1C6"
            },
            "type": "carpet"
           }
          ],
          "choropleth": [
           {
            "colorbar": {
             "outlinewidth": 0,
             "ticks": ""
            },
            "type": "choropleth"
           }
          ],
          "contour": [
           {
            "colorbar": {
             "outlinewidth": 0,
             "ticks": ""
            },
            "colorscale": [
             [
              0,
              "#0d0887"
             ],
             [
              0.1111111111111111,
              "#46039f"
             ],
             [
              0.2222222222222222,
              "#7201a8"
             ],
             [
              0.3333333333333333,
              "#9c179e"
             ],
             [
              0.4444444444444444,
              "#bd3786"
             ],
             [
              0.5555555555555556,
              "#d8576b"
             ],
             [
              0.6666666666666666,
              "#ed7953"
             ],
             [
              0.7777777777777778,
              "#fb9f3a"
             ],
             [
              0.8888888888888888,
              "#fdca26"
             ],
             [
              1,
              "#f0f921"
             ]
            ],
            "type": "contour"
           }
          ],
          "contourcarpet": [
           {
            "colorbar": {
             "outlinewidth": 0,
             "ticks": ""
            },
            "type": "contourcarpet"
           }
          ],
          "heatmap": [
           {
            "colorbar": {
             "outlinewidth": 0,
             "ticks": ""
            },
            "colorscale": [
             [
              0,
              "#0d0887"
             ],
             [
              0.1111111111111111,
              "#46039f"
             ],
             [
              0.2222222222222222,
              "#7201a8"
             ],
             [
              0.3333333333333333,
              "#9c179e"
             ],
             [
              0.4444444444444444,
              "#bd3786"
             ],
             [
              0.5555555555555556,
              "#d8576b"
             ],
             [
              0.6666666666666666,
              "#ed7953"
             ],
             [
              0.7777777777777778,
              "#fb9f3a"
             ],
             [
              0.8888888888888888,
              "#fdca26"
             ],
             [
              1,
              "#f0f921"
             ]
            ],
            "type": "heatmap"
           }
          ],
          "heatmapgl": [
           {
            "colorbar": {
             "outlinewidth": 0,
             "ticks": ""
            },
            "colorscale": [
             [
              0,
              "#0d0887"
             ],
             [
              0.1111111111111111,
              "#46039f"
             ],
             [
              0.2222222222222222,
              "#7201a8"
             ],
             [
              0.3333333333333333,
              "#9c179e"
             ],
             [
              0.4444444444444444,
              "#bd3786"
             ],
             [
              0.5555555555555556,
              "#d8576b"
             ],
             [
              0.6666666666666666,
              "#ed7953"
             ],
             [
              0.7777777777777778,
              "#fb9f3a"
             ],
             [
              0.8888888888888888,
              "#fdca26"
             ],
             [
              1,
              "#f0f921"
             ]
            ],
            "type": "heatmapgl"
           }
          ],
          "histogram": [
           {
            "marker": {
             "pattern": {
              "fillmode": "overlay",
              "size": 10,
              "solidity": 0.2
             }
            },
            "type": "histogram"
           }
          ],
          "histogram2d": [
           {
            "colorbar": {
             "outlinewidth": 0,
             "ticks": ""
            },
            "colorscale": [
             [
              0,
              "#0d0887"
             ],
             [
              0.1111111111111111,
              "#46039f"
             ],
             [
              0.2222222222222222,
              "#7201a8"
             ],
             [
              0.3333333333333333,
              "#9c179e"
             ],
             [
              0.4444444444444444,
              "#bd3786"
             ],
             [
              0.5555555555555556,
              "#d8576b"
             ],
             [
              0.6666666666666666,
              "#ed7953"
             ],
             [
              0.7777777777777778,
              "#fb9f3a"
             ],
             [
              0.8888888888888888,
              "#fdca26"
             ],
             [
              1,
              "#f0f921"
             ]
            ],
            "type": "histogram2d"
           }
          ],
          "histogram2dcontour": [
           {
            "colorbar": {
             "outlinewidth": 0,
             "ticks": ""
            },
            "colorscale": [
             [
              0,
              "#0d0887"
             ],
             [
              0.1111111111111111,
              "#46039f"
             ],
             [
              0.2222222222222222,
              "#7201a8"
             ],
             [
              0.3333333333333333,
              "#9c179e"
             ],
             [
              0.4444444444444444,
              "#bd3786"
             ],
             [
              0.5555555555555556,
              "#d8576b"
             ],
             [
              0.6666666666666666,
              "#ed7953"
             ],
             [
              0.7777777777777778,
              "#fb9f3a"
             ],
             [
              0.8888888888888888,
              "#fdca26"
             ],
             [
              1,
              "#f0f921"
             ]
            ],
            "type": "histogram2dcontour"
           }
          ],
          "mesh3d": [
           {
            "colorbar": {
             "outlinewidth": 0,
             "ticks": ""
            },
            "type": "mesh3d"
           }
          ],
          "parcoords": [
           {
            "line": {
             "colorbar": {
              "outlinewidth": 0,
              "ticks": ""
             }
            },
            "type": "parcoords"
           }
          ],
          "pie": [
           {
            "automargin": true,
            "type": "pie"
           }
          ],
          "scatter": [
           {
            "marker": {
             "line": {
              "color": "#283442"
             }
            },
            "type": "scatter"
           }
          ],
          "scatter3d": [
           {
            "line": {
             "colorbar": {
              "outlinewidth": 0,
              "ticks": ""
             }
            },
            "marker": {
             "colorbar": {
              "outlinewidth": 0,
              "ticks": ""
             }
            },
            "type": "scatter3d"
           }
          ],
          "scattercarpet": [
           {
            "marker": {
             "colorbar": {
              "outlinewidth": 0,
              "ticks": ""
             }
            },
            "type": "scattercarpet"
           }
          ],
          "scattergeo": [
           {
            "marker": {
             "colorbar": {
              "outlinewidth": 0,
              "ticks": ""
             }
            },
            "type": "scattergeo"
           }
          ],
          "scattergl": [
           {
            "marker": {
             "line": {
              "color": "#283442"
             }
            },
            "type": "scattergl"
           }
          ],
          "scattermapbox": [
           {
            "marker": {
             "colorbar": {
              "outlinewidth": 0,
              "ticks": ""
             }
            },
            "type": "scattermapbox"
           }
          ],
          "scatterpolar": [
           {
            "marker": {
             "colorbar": {
              "outlinewidth": 0,
              "ticks": ""
             }
            },
            "type": "scatterpolar"
           }
          ],
          "scatterpolargl": [
           {
            "marker": {
             "colorbar": {
              "outlinewidth": 0,
              "ticks": ""
             }
            },
            "type": "scatterpolargl"
           }
          ],
          "scatterternary": [
           {
            "marker": {
             "colorbar": {
              "outlinewidth": 0,
              "ticks": ""
             }
            },
            "type": "scatterternary"
           }
          ],
          "surface": [
           {
            "colorbar": {
             "outlinewidth": 0,
             "ticks": ""
            },
            "colorscale": [
             [
              0,
              "#0d0887"
             ],
             [
              0.1111111111111111,
              "#46039f"
             ],
             [
              0.2222222222222222,
              "#7201a8"
             ],
             [
              0.3333333333333333,
              "#9c179e"
             ],
             [
              0.4444444444444444,
              "#bd3786"
             ],
             [
              0.5555555555555556,
              "#d8576b"
             ],
             [
              0.6666666666666666,
              "#ed7953"
             ],
             [
              0.7777777777777778,
              "#fb9f3a"
             ],
             [
              0.8888888888888888,
              "#fdca26"
             ],
             [
              1,
              "#f0f921"
             ]
            ],
            "type": "surface"
           }
          ],
          "table": [
           {
            "cells": {
             "fill": {
              "color": "#506784"
             },
             "line": {
              "color": "rgb(17,17,17)"
             }
            },
            "header": {
             "fill": {
              "color": "#2a3f5f"
             },
             "line": {
              "color": "rgb(17,17,17)"
             }
            },
            "type": "table"
           }
          ]
         },
         "layout": {
          "annotationdefaults": {
           "arrowcolor": "#f2f5fa",
           "arrowhead": 0,
           "arrowwidth": 1
          },
          "autotypenumbers": "strict",
          "coloraxis": {
           "colorbar": {
            "outlinewidth": 0,
            "ticks": ""
           }
          },
          "colorscale": {
           "diverging": [
            [
             0,
             "#8e0152"
            ],
            [
             0.1,
             "#c51b7d"
            ],
            [
             0.2,
             "#de77ae"
            ],
            [
             0.3,
             "#f1b6da"
            ],
            [
             0.4,
             "#fde0ef"
            ],
            [
             0.5,
             "#f7f7f7"
            ],
            [
             0.6,
             "#e6f5d0"
            ],
            [
             0.7,
             "#b8e186"
            ],
            [
             0.8,
             "#7fbc41"
            ],
            [
             0.9,
             "#4d9221"
            ],
            [
             1,
             "#276419"
            ]
           ],
           "sequential": [
            [
             0,
             "#0d0887"
            ],
            [
             0.1111111111111111,
             "#46039f"
            ],
            [
             0.2222222222222222,
             "#7201a8"
            ],
            [
             0.3333333333333333,
             "#9c179e"
            ],
            [
             0.4444444444444444,
             "#bd3786"
            ],
            [
             0.5555555555555556,
             "#d8576b"
            ],
            [
             0.6666666666666666,
             "#ed7953"
            ],
            [
             0.7777777777777778,
             "#fb9f3a"
            ],
            [
             0.8888888888888888,
             "#fdca26"
            ],
            [
             1,
             "#f0f921"
            ]
           ],
           "sequentialminus": [
            [
             0,
             "#0d0887"
            ],
            [
             0.1111111111111111,
             "#46039f"
            ],
            [
             0.2222222222222222,
             "#7201a8"
            ],
            [
             0.3333333333333333,
             "#9c179e"
            ],
            [
             0.4444444444444444,
             "#bd3786"
            ],
            [
             0.5555555555555556,
             "#d8576b"
            ],
            [
             0.6666666666666666,
             "#ed7953"
            ],
            [
             0.7777777777777778,
             "#fb9f3a"
            ],
            [
             0.8888888888888888,
             "#fdca26"
            ],
            [
             1,
             "#f0f921"
            ]
           ]
          },
          "colorway": [
           "#636efa",
           "#EF553B",
           "#00cc96",
           "#ab63fa",
           "#FFA15A",
           "#19d3f3",
           "#FF6692",
           "#B6E880",
           "#FF97FF",
           "#FECB52"
          ],
          "font": {
           "color": "#f2f5fa"
          },
          "geo": {
           "bgcolor": "rgb(17,17,17)",
           "lakecolor": "rgb(17,17,17)",
           "landcolor": "rgb(17,17,17)",
           "showlakes": true,
           "showland": true,
           "subunitcolor": "#506784"
          },
          "hoverlabel": {
           "align": "left"
          },
          "hovermode": "closest",
          "mapbox": {
           "style": "dark"
          },
          "paper_bgcolor": "rgb(17,17,17)",
          "plot_bgcolor": "rgb(17,17,17)",
          "polar": {
           "angularaxis": {
            "gridcolor": "#506784",
            "linecolor": "#506784",
            "ticks": ""
           },
           "bgcolor": "rgb(17,17,17)",
           "radialaxis": {
            "gridcolor": "#506784",
            "linecolor": "#506784",
            "ticks": ""
           }
          },
          "scene": {
           "xaxis": {
            "backgroundcolor": "rgb(17,17,17)",
            "gridcolor": "#506784",
            "gridwidth": 2,
            "linecolor": "#506784",
            "showbackground": true,
            "ticks": "",
            "zerolinecolor": "#C8D4E3"
           },
           "yaxis": {
            "backgroundcolor": "rgb(17,17,17)",
            "gridcolor": "#506784",
            "gridwidth": 2,
            "linecolor": "#506784",
            "showbackground": true,
            "ticks": "",
            "zerolinecolor": "#C8D4E3"
           },
           "zaxis": {
            "backgroundcolor": "rgb(17,17,17)",
            "gridcolor": "#506784",
            "gridwidth": 2,
            "linecolor": "#506784",
            "showbackground": true,
            "ticks": "",
            "zerolinecolor": "#C8D4E3"
           }
          },
          "shapedefaults": {
           "line": {
            "color": "#f2f5fa"
           }
          },
          "sliderdefaults": {
           "bgcolor": "#C8D4E3",
           "bordercolor": "rgb(17,17,17)",
           "borderwidth": 1,
           "tickwidth": 0
          },
          "ternary": {
           "aaxis": {
            "gridcolor": "#506784",
            "linecolor": "#506784",
            "ticks": ""
           },
           "baxis": {
            "gridcolor": "#506784",
            "linecolor": "#506784",
            "ticks": ""
           },
           "bgcolor": "rgb(17,17,17)",
           "caxis": {
            "gridcolor": "#506784",
            "linecolor": "#506784",
            "ticks": ""
           }
          },
          "title": {
           "x": 0.05
          },
          "updatemenudefaults": {
           "bgcolor": "#506784",
           "borderwidth": 0
          },
          "xaxis": {
           "automargin": true,
           "gridcolor": "#283442",
           "linecolor": "#506784",
           "ticks": "",
           "title": {
            "standoff": 15
           },
           "zerolinecolor": "#283442",
           "zerolinewidth": 2
          },
          "yaxis": {
           "automargin": true,
           "gridcolor": "#283442",
           "linecolor": "#506784",
           "ticks": "",
           "title": {
            "standoff": 15
           },
           "zerolinecolor": "#283442",
           "zerolinewidth": 2
          }
         }
        },
        "title": {
         "text": "Predicción de redshift (R² = 0.9979)"
        },
        "xaxis": {
         "autorange": true,
         "range": [
          0,
          389
         ],
         "title": {
          "text": "Índice de muestra"
         }
        },
        "yaxis": {
         "autorange": true,
         "range": [
          0.00898087306943043,
          0.0815444657779466
         ],
         "title": {
          "text": "Redshift"
         },
         "type": "linear"
        }
       }
      },
      "image/png": "[encoded data removed]",
      "text/html": [
       "<div>                            <div id=\"5fdf6019-7b88-4abd-bd57-0f164e750c24\" class=\"plotly-graph-div\" style=\"height:525px; width:100%;\"></div>            <script type=\"text/javascript\">                require([\"plotly\"], function(Plotly) {                    window.PLOTLYENV=window.PLOTLYENV || {};                                    if (document.getElementById(\"5fdf6019-7b88-4abd-bd57-0f164e750c24\")) {                    Plotly.newPlot(                        \"5fdf6019-7b88-4abd-bd57-0f164e750c24\",                        [{\"line\":{\"color\":\"blue\"},\"mode\":\"lines\",\"name\":\"Redshift real\",\"y\":[0.0136568136909405,0.0137303847616806,0.0137422004188361,0.0137950000941886,0.0142705790693018,0.014418044398624,0.014542488280482,0.0146049047214413,0.0146675888242413,0.0149325284122,0.014946037410595,0.0149589846167043,0.0149979082519052,0.0151813265950043,0.0151846218575256,0.0152246806390591,0.0156320230005286,0.0159131225850088,0.0159527613562512,0.0169591087986904,0.0172616152394015,0.0172789989924321,0.0180289986518607,0.0180992435742124,0.0183357675756943,0.0183538206294371,0.0183570646407674,0.0185125829162797,0.0185433482149402,0.018599523055726503,0.0187306332242268,0.0190308334382827,0.0191424593278848,0.019215543285092,0.0192926851988237,0.019444430565716,0.0198723894321702,0.019873943058834498,0.0199009823143436,0.0201649111045207,0.0205174057157314,0.0207209786407421,0.0209100413147882,0.0210928858700122,0.0212674172341293,0.0217648533361698,0.0218860309875989,0.0219561322759352,0.0219919079438632,0.0223621510840616,0.0223710696653213,0.0224343186373774,0.0224541475423864,0.0225310364276944,0.0225712457473877,0.022773479074154,0.0231285158747077,0.023149156422804098,0.0234392947109096,0.0237234688084852,0.0237607851078989,0.0240770166210411,0.024237948746799305,0.0244035949135766,0.024421324122974,0.0244589815934917,0.0245843369216986,0.0246500124357513,0.0247551804309466,0.0248432311613318,0.025004065183626,0.0258547791262685,0.0261701391495204,0.0262867716809137,0.0267455807785932,0.0268272501793776,0.0270906416319055,0.0270953919229485,0.0275242541266501,0.0275317790224292,0.0284643483896831,0.0285131280900888,0.0286023044308402,0.0287498479391628,0.0289803203740113,0.029090513540234095,0.0291807099446284,0.0296336442960037,0.0297343059157876,0.029738579804744,0.0300010745161826,0.0302337336831766,0.0302380319219785,0.030317909568805704,0.030387301043049198,0.0304139247054522,0.0305599377410913,0.0307556021582465,0.0309734524576554,0.031239890777884,0.0314979112807942,0.0315486705323017,0.0316018985906872,0.0318135754826195,0.0328017105392811,0.0328299500766295,0.0328410876319184,0.0330590787624207,0.0330785122562862,0.0330819535835148,0.0332067837236713,0.0332985505663181,0.0333959596934803,0.0334894566666068,0.0335521055206361,0.0338084848223198,0.0338478894977934,0.0340480202732547,0.0340640735199767,0.0342922753488406,0.0344389628618399,0.0346438747752617,0.0347490027669412,0.0347804742378304,0.034815142880687,0.0348228408415148,0.0349262904543542,0.0349978387886328,0.0349997442482002,0.0355214982753953,0.0355492466390228,0.0357622021511359,0.0358254157109488,0.0358596471982594,0.0362209160923644,0.0362466099109173,0.0364191358372514,0.036765862632834,0.0368314691100727,0.0372191689229965,0.037380794525419495,0.0375176854779252,0.0376188328561318,0.03764766672298729,0.0376546556838729,0.0376546666124437,0.0377646809794462,0.0379076615249798,0.038078509316438,0.0381075982844744,0.0381095458237037,0.0386147268046519,0.0387365280753513,0.0389281796915217,0.0389990511098587,0.0390467675406859,0.0392722324354819,0.0393057789568538,0.0393060693932629,0.0393518277357409,0.0394409436957985,0.0395396338608339,0.0398713146712397,0.03996939029580699,0.0402363672458349,0.040526185304066896,0.0406248851176761,0.0411937202760411,0.041296029802072,0.0413560415174436,0.0414306933837467,0.0414842726329537,0.041541765817173,0.0415791768664107,0.0416037756031974,0.0418831216340941,0.0421317390781166,0.042181408013728,0.0422580465360779,0.0423067560350939,0.0425073056890349,0.0425233069908809,0.0425476977878869,0.0425493643624187,0.042726943213441594,0.0427427928219251,0.0429565465812368,0.0431057176709326,0.0432138121033789,0.0432505009591916,0.0438014865081091,0.044018465860320606,0.0440639257867006,0.0441488470032661,0.0441855568199837,0.0441989323292945,0.0442080574197195,0.044267394590045,0.0444175039880713,0.0444190294452475,0.0448046351118269,0.0448881843535583,0.0450567724732664,0.0450749763897238,0.0454886934656029,0.0454996425263502,0.045510957838398494,0.0455296155728934,0.04557303437411779,0.0456319862169712,0.0458762755265693,0.0459451379778492,0.0460968211165473,0.0461348938196349,0.0461629660183392,0.0462657218754877,0.0465136641254817,0.04697426463123609,0.0471109995107197,0.0473276437532494,0.047370101159396,0.047614563356857,0.047635596094463,0.0476436099514515,0.0476984801152462,0.0477083478092432,0.0478571565352631,0.047897755641774,0.0479221598988213,0.0479368369915159,0.0481647947266316,0.048434454432538,0.048734811030938,0.0487451213825214,0.0488775387965313,0.0491492562092677,0.0492241418605816,0.0493245109961452,0.0493973356761711,0.0494978863715859,0.0497101161581731,0.049733500137527,0.049860328346764,0.05008714766157,0.0501126418212069,0.0501631270882688,0.050259234874073,0.0503719455623981,0.0504220493187367,0.0504361006724433,0.0504626838667955,0.0505489439283274,0.0512606411620641,0.0513205795821337,0.0513797780865477,0.0515929662743542,0.0516220501840576,0.0517296941394151,0.0517455629954458,0.051910194495371695,0.0521118181396922,0.0525404451723592,0.0525518036751149,0.052880006778324,0.0529321648674437,0.0530725217699271,0.0530977742420583,0.0532156156694818,0.053216473010627,0.0534126054141026,0.0534153138097623,0.0536731232146775,0.053712722187454,0.0537604206043561,0.0538930697018466,0.0543020741213874,0.0544406981021187,0.05457936651769289,0.0546236215037055,0.0548804833165887,0.0553132151114695,0.0555588310336685,0.0556160171034644,0.0557031519010694,0.0557427731653777,0.055874422077509,0.0561727361754847,0.0562001909828224,0.0564758704345043,0.05660359554419311,0.0567014274652083,0.056760129948285,0.0567776682614132,0.0569190843912846,0.0569472621931181,0.0571030275240972,0.0571796603770256,0.0572812810812162,0.057394608553038906,0.057564259346115,0.05762540491665061,0.0576827260833588,0.0578398892523225,0.0578564598690947,0.0581438147429631,0.058197065437503595,0.0587668763667952,0.0587868169428215,0.0589036836941219,0.0592172845369706,0.0593064283690005,0.0594863645717508,0.0596574447540477,0.0598679844402574,0.059968167511608404,0.0601635722470631,0.0602441430815378,0.0603651736758672,0.0605016616889531,0.0605659124550901,0.0606310950403294,0.0606323212683305,0.0608720807697355,0.0609518896218851,0.0612503674322436,0.0614500456840329,0.06146824199416281,0.0614978930456734,0.0617044267157049,0.0618356310190283,0.0622901525756496,0.0624710497682699,0.0625788215568939,0.0626585450294314,0.0630678851709092,0.0636468517484052,0.0636598609218695,0.0637430803403237,0.0641984233213075,0.0645340697267134,0.0646755955914226,0.0656619838972927,0.0660537323050707,0.066178575975043,0.066261686304198,0.0663159933715148,0.0663542574481199,0.0664211773651091,0.0666004162617935,0.066722185762324,0.0667805497921926,0.0668094885164523,0.0669484235476768,0.0671800388905412,0.067668896141537,0.0677033276162695,0.0680070160225382,0.0681591961459408,0.0682086954393368,0.0683461178315573,0.0684238103340767,0.0686343596678993,0.0686905181301792,0.0687447349844568,0.0688084396852108,0.0688267633192814,0.0688366014614551,0.0688781367777464,0.0688879379447083,0.0691701615058866,0.0691787615054776,0.0695110557429779,0.0697760355432441,0.0699464839791314,0.0699695023251448,0.0699878761054121,0.0700564184798557,0.070136582146078,0.0701527269567112,0.0704259571606531,0.0707041954462303,0.0711984344298425,0.0712561027185165,0.0712694471500792,0.071346395087655,0.0714458176537931,0.0719462313106203,0.0723462940019478,0.0725600053587447,0.0779162861425208],\"type\":\"scatter\"},{\"line\":{\"color\":\"red\"},\"mode\":\"lines\",\"name\":\"Predicci\\u00f3n\",\"y\":[0.012609052704856238,0.013123822844516686,0.013398426898856366,0.013684033986061552,0.01391370168340303,0.013950349235098499,0.01418108101819281,0.014195943253678333,0.01459947285631647,0.014945118594586207,0.015453401412033076,0.01540184570060184,0.01554603062477714,0.015707688682437687,0.01585245600960473,0.01602313974803785,0.016190432398083564,0.016402000722163728,0.01644310240426648,0.016486688170814296,0.016604038720585107,0.01671086478905262,0.017022453520833886,0.01744885287822753,0.017768130790725947,0.01823035106331065,0.01854086370641004,0.01886037959002336,0.01895371958491326,0.019465836555389106,0.019332557075047538,0.01958956901034452,0.019572256611735134,0.019917722827935736,0.01872936918513708,0.018449056955238543,0.01875489158721071,0.018653724638852925,0.018948141875974423,0.019110236735878774,0.019803067718534417,0.019916348231627266,0.01989848474201494,0.02016056400083327,0.020935689152461943,0.01975033728565657,0.020234330871522183,0.02040020300100918,0.020757466530857933,0.021113668584286246,0.02137169607175342,0.021409128510634895,0.022108982772379136,0.0223738164424792,0.02156178906831279,0.022432763348867475,0.022832350250248788,0.022686491700271948,0.022840595740633678,0.02248374031037233,0.023575440106132727,0.024001669335053873,0.02400547478542644,0.024389924427687244,0.025063955692265338,0.0251948043185428,0.025285179068093022,0.025700887468776235,0.02585049197634692,0.02587989393383329,0.025556724984859575,0.025606544446511663,0.025289103504023046,0.025238100449194188,0.024539205378040295,0.024831451650604755,0.025064286555613692,0.02557337461303929,0.0257191214835894,0.026257036401640343,0.026693606936730282,0.02752128926156542,0.028131726920616818,0.02875184207167438,0.029412804755858907,0.02963639740550605,0.03018559716432173,0.0302463653847254,0.0305365252351026,0.030651256537010004,0.03138447685402312,0.031375970430398206,0.031525240943421656,0.031538523489072046,0.03157876565708214,0.03230903429728406,0.03225159975995499,0.03216145671912191,0.031913622327743196,0.03156125390547738,0.031136016222868337,0.031153903718338746,0.03121417720931932,0.03132287364725136,0.031713321622833926,0.03157544449880306,0.03191328833319596,0.03243854485790666,0.032926934647000264,0.033340060852340155,0.033352433262849326,0.03303784379880774,0.033072399709651146,0.03315646613719045,0.03313030183934634,0.03326106070458924,0.03381457734292795,0.033980635256881844,0.034156813205617,0.03431831209400112,0.03451967323159787,0.034909152622993454,0.034952338117951065,0.0350192330508306,0.03513289139525501,0.03520643281962454,0.03502828221559477,0.03518448102800745,0.03426710238004616,0.03415777761487214,0.03429450454518096,0.034416604601786756,0.034730878858474395,0.03550450207837347,0.03605269776608152,0.036400976842609616,0.03674517074833184,0.03704616663430092,0.037879875473247754,0.03791931605434448,0.03775600942047344,0.03770677862421085,0.03784780782178126,0.037558606118261444,0.03766978872810447,0.03795091193851301,0.03808013860377046,0.038142570534512546,0.03829589490635307,0.03839732070048497,0.038605733297960236,0.038931937422381956,0.03892886049761554,0.03877504765874969,0.038992469759136644,0.03908029362533235,0.03867997611087896,0.03873299774525267,0.03875434417175289,0.03884342051750073,0.03885761528575826,0.038831630509983305,0.03918915079814024,0.03963633609743453,0.03963687466364194,0.039864349999900704,0.04047202802900557,0.04050824973765331,0.04088040316191102,0.04138260571299876,0.041749402699705174,0.04207617878978904,0.04218619659364858,0.042516066308226214,0.042605163528633264,0.042677844917043656,0.04268244151699999,0.04278938239609312,0.042580063838408476,0.0423700397172428,0.042786276246803825,0.0428626816744159,0.04303174971422676,0.043107716773995594,0.04333191061382776,0.043343295652956665,0.04343744454089066,0.04360543127335484,0.043739438235569604,0.04360703444718157,0.04328231659849505,0.04338324557573793,0.043441728020958956,0.04355481022478939,0.04372109775999451,0.043765114066388375,0.04386338778698073,0.043772345048336034,0.044032380678018464,0.04444315639673218,0.044914669023860765,0.04528648010370757,0.04547592181089983,0.04573322286022676,0.04548992035736085,0.04542568068113185,0.04543423929140477,0.04544959469071395,0.045398167880303285,0.04542280832802562,0.045224077397488356,0.045390081037328334,0.045667041840691945,0.045788432158884874,0.04641738981558051,0.04680352926150373,0.04670903802915882,0.04663761747016425,0.04679136351012066,0.04699787651360852,0.047163529459173896,0.047194490753702675,0.04729999545624269,0.047525663047014534,0.047576572165876976,0.047673326211279406,0.047849629407969774,0.048200336207363095,0.04815075054189407,0.04829701092906056,0.048370402055883825,0.04862021327748899,0.04877977082256731,0.04880085840329343,0.04883256701062164,0.04883312227655642,0.04894761143241708,0.04880729197325956,0.04875551029364246,0.04878698092985577,0.04881865613772927,0.04892077497054667,0.0489868850162402,0.049284979324580175,0.04965286596849695,0.04980592731963153,0.04995586164681761,0.05035645470677247,0.050522379022907474,0.050647806500190115,0.051007689799768746,0.05113948822303992,0.05137272079030666,0.05158168030385302,0.0516972758166514,0.05187717780458823,0.05237509270067582,0.05275194709818588,0.05293121449648297,0.053223430500791584,0.05322067504577689,0.05341064279438105,0.05346696679984056,0.05346560159712873,0.053627826923653095,0.05356912320704453,0.05310632366266696,0.05316059360166097,0.05302334271740618,0.05274977613362885,0.05266858205919578,0.05288163718087762,0.0531630735111742,0.053434356407234804,0.05389995733087731,0.054251674463776024,0.05452720326551836,0.05477156620107174,0.05546613291164005,0.05497959470481768,0.05471075831881559,0.05413574495643041,0.05388531166998101,0.05402127667522895,0.054222103421550115,0.05453733165016329,0.0550298191348583,0.05556409351234437,0.0559679346692711,0.05700880362614106,0.05715983596040118,0.05728427815376947,0.057428392625969965,0.05711445445129549,0.057119911087210956,0.05715924729501168,0.057207526206814636,0.05729665682667641,0.05743035484393498,0.057795302335836074,0.057899091141389664,0.058084917357608096,0.05834972493438416,0.058580039224294424,0.058790034120937223,0.05908979840201337,0.05932103535186038,0.05958573020547675,0.059717683101226014,0.05983729072352307,0.06007347496760101,0.06017525980587118,0.060005861946444916,0.06016402923922037,0.060313266352789094,0.060475921697293024,0.060616474952633614,0.0607419066048481,0.06063066972089115,0.06072288144045117,0.06067871483651105,0.06098163119112674,0.06114788950180898,0.06118807322077331,0.061226708040024835,0.061348173506990886,0.061475245907418666,0.06172901078947674,0.06236775448640639,0.062496505209434026,0.06273531131070777,0.06292598044786113,0.06320526668825986,0.06342048442463506,0.06360125897332655,0.06378228401792847,0.06401882730614468,0.06415013308745868,0.06437094940743192,0.06457567136516022,0.06468583529163419,0.06524507576152615,0.06564356465583342,0.06630166751170724,0.06664293061527746,0.06684412475560059,0.06718684491038313,0.0674004803475908,0.06754653198816526,0.06765420765526231,0.06763197196828007,0.06721743046104627,0.06726431912054637,0.06734955452900099,0.06747805893105004,0.06780691413719045,0.06791381326696518,0.06817544372061066,0.06855997999270715,0.06878400266033385,0.06894143934003723,0.06891736250811335,0.06894693355033925,0.06894312601250076,0.06896972867818811,0.06891801379748046,0.06882641579290098,0.06871576757433354,0.06858731327146657,0.06880957829278844,0.06917789077975295,0.06963861955793765,0.06971809356045246,0.06991277480710449,0.07001409622794037,0.07015734648924989,0.07050886740035209,0.07069657651083057,0.07058707639851924,0.07062609113656824,0.07071738854605521,0.07067940501617079,0.07083204052425765,0.07088616851556909,0.07113020163150706,0.07117352489921541,0.07117383384417161,0.0713590880947279,0.07145513240171746,0.07151665002238648],\"type\":\"scatter\"}],                        {\"template\":{\"data\":{\"barpolar\":[{\"marker\":{\"line\":{\"color\":\"rgb(17,17,17)\",\"width\":0.5},\"pattern\":{\"fillmode\":\"overlay\",\"size\":10,\"solidity\":0.2}},\"type\":\"barpolar\"}],\"bar\":[{\"error_x\":{\"color\":\"#f2f5fa\"},\"error_y\":{\"color\":\"#f2f5fa\"},\"marker\":{\"line\":{\"color\":\"rgb(17,17,17)\",\"width\":0.5},\"pattern\":{\"fillmode\":\"overlay\",\"size\":10,\"solidity\":0.2}},\"type\":\"bar\"}],\"carpet\":[{\"aaxis\":{\"endlinecolor\":\"#A2B1C6\",\"gridcolor\":\"#506784\",\"linecolor\":\"#506784\",\"minorgridcolor\":\"#506784\",\"startlinecolor\":\"#A2B1C6\"},\"baxis\":{\"endlinecolor\":\"#A2B1C6\",\"gridcolor\":\"#506784\",\"linecolor\":\"#506784\",\"minorgridcolor\":\"#506784\",\"startlinecolor\":\"#A2B1C6\"},\"type\":\"carpet\"}],\"choropleth\":[{\"colorbar\":{\"outlinewidth\":0,\"ticks\":\"\"},\"type\":\"choropleth\"}],\"contourcarpet\":[{\"colorbar\":{\"outlinewidth\":0,\"ticks\":\"\"},\"type\":\"contourcarpet\"}],\"contour\":[{\"colorbar\":{\"outlinewidth\":0,\"ticks\":\"\"},\"colorscale\":[[0.0,\"#0d0887\"],[0.1111111111111111,\"#46039f\"],[0.2222222222222222,\"#7201a8\"],[0.3333333333333333,\"#9c179e\"],[0.4444444444444444,\"#bd3786\"],[0.5555555555555556,\"#d8576b\"],[0.6666666666666666,\"#ed7953\"],[0.7777777777777778,\"#fb9f3a\"],[0.8888888888888888,\"#fdca26\"],[1.0,\"#f0f921\"]],\"type\":\"contour\"}],\"heatmapgl\":[{\"colorbar\":{\"outlinewidth\":0,\"ticks\":\"\"},\"colorscale\":[[0.0,\"#0d0887\"],[0.1111111111111111,\"#46039f\"],[0.2222222222222222,\"#7201a8\"],[0.3333333333333333,\"#9c179e\"],[0.4444444444444444,\"#bd3786\"],[0.5555555555555556,\"#d8576b\"],[0.6666666666666666,\"#ed7953\"],[0.7777777777777778,\"#fb9f3a\"],[0.8888888888888888,\"#fdca26\"],[1.0,\"#f0f921\"]],\"type\":\"heatmapgl\"}],\"heatmap\":[{\"colorbar\":{\"outlinewidth\":0,\"ticks\":\"\"},\"colorscale\":[[0.0,\"#0d0887\"],[0.1111111111111111,\"#46039f\"],[0.2222222222222222,\"#7201a8\"],[0.3333333333333333,\"#9c179e\"],[0.4444444444444444,\"#bd3786\"],[0.5555555555555556,\"#d8576b\"],[0.6666666666666666,\"#ed7953\"],[0.7777777777777778,\"#fb9f3a\"],[0.8888888888888888,\"#fdca26\"],[1.0,\"#f0f921\"]],\"type\":\"heatmap\"}],\"histogram2dcontour\":[{\"colorbar\":{\"outlinewidth\":0,\"ticks\":\"\"},\"colorscale\":[[0.0,\"#0d0887\"],[0.1111111111111111,\"#46039f\"],[0.2222222222222222,\"#7201a8\"],[0.3333333333333333,\"#9c179e\"],[0.4444444444444444,\"#bd3786\"],[0.5555555555555556,\"#d8576b\"],[0.6666666666666666,\"#ed7953\"],[0.7777777777777778,\"#fb9f3a\"],[0.8888888888888888,\"#fdca26\"],[1.0,\"#f0f921\"]],\"type\":\"histogram2dcontour\"}],\"histogram2d\":[{\"colorbar\":{\"outlinewidth\":0,\"ticks\":\"\"},\"colorscale\":[[0.0,\"#0d0887\"],[0.1111111111111111,\"#46039f\"],[0.2222222222222222,\"#7201a8\"],[0.3333333333333333,\"#9c179e\"],[0.4444444444444444,\"#bd3786\"],[0.5555555555555556,\"#d8576b\"],[0.6666666666666666,\"#ed7953\"],[0.7777777777777778,\"#fb9f3a\"],[0.8888888888888888,\"#fdca26\"],[1.0,\"#f0f921\"]],\"type\":\"histogram2d\"}],\"histogram\":[{\"marker\":{\"pattern\":{\"fillmode\":\"overlay\",\"size\":10,\"solidity\":0.2}},\"type\":\"histogram\"}],\"mesh3d\":[{\"colorbar\":{\"outlinewidth\":0,\"ticks\":\"\"},\"type\":\"mesh3d\"}],\"parcoords\":[{\"line\":{\"colorbar\":{\"outlinewidth\":0,\"ticks\":\"\"}},\"type\":\"parcoords\"}],\"pie\":[{\"automargin\":true,\"type\":\"pie\"}],\"scatter3d\":[{\"line\":{\"colorbar\":{\"outlinewidth\":0,\"ticks\":\"\"}},\"marker\":{\"colorbar\":{\"outlinewidth\":0,\"ticks\":\"\"}},\"type\":\"scatter3d\"}],\"scattercarpet\":[{\"marker\":{\"colorbar\":{\"outlinewidth\":0,\"ticks\":\"\"}},\"type\":\"scattercarpet\"}],\"scattergeo\":[{\"marker\":{\"colorbar\":{\"outlinewidth\":0,\"ticks\":\"\"}},\"type\":\"scattergeo\"}],\"scattergl\":[{\"marker\":{\"line\":{\"color\":\"#283442\"}},\"type\":\"scattergl\"}],\"scattermapbox\":[{\"marker\":{\"colorbar\":{\"outlinewidth\":0,\"ticks\":\"\"}},\"type\":\"scattermapbox\"}],\"scatterpolargl\":[{\"marker\":{\"colorbar\":{\"outlinewidth\":0,\"ticks\":\"\"}},\"type\":\"scatterpolargl\"}],\"scatterpolar\":[{\"marker\":{\"colorbar\":{\"outlinewidth\":0,\"ticks\":\"\"}},\"type\":\"scatterpolar\"}],\"scatter\":[{\"marker\":{\"line\":{\"color\":\"#283442\"}},\"type\":\"scatter\"}],\"scatterternary\":[{\"marker\":{\"colorbar\":{\"outlinewidth\":0,\"ticks\":\"\"}},\"type\":\"scatterternary\"}],\"surface\":[{\"colorbar\":{\"outlinewidth\":0,\"ticks\":\"\"},\"colorscale\":[[0.0,\"#0d0887\"],[0.1111111111111111,\"#46039f\"],[0.2222222222222222,\"#7201a8\"],[0.3333333333333333,\"#9c179e\"],[0.4444444444444444,\"#bd3786\"],[0.5555555555555556,\"#d8576b\"],[0.6666666666666666,\"#ed7953\"],[0.7777777777777778,\"#fb9f3a\"],[0.8888888888888888,\"#fdca26\"],[1.0,\"#f0f921\"]],\"type\":\"surface\"}],\"table\":[{\"cells\":{\"fill\":{\"color\":\"#506784\"},\"line\":{\"color\":\"rgb(17,17,17)\"}},\"header\":{\"fill\":{\"color\":\"#2a3f5f\"},\"line\":{\"color\":\"rgb(17,17,17)\"}},\"type\":\"table\"}]},\"layout\":{\"annotationdefaults\":{\"arrowcolor\":\"#f2f5fa\",\"arrowhead\":0,\"arrowwidth\":1},\"autotypenumbers\":\"strict\",\"coloraxis\":{\"colorbar\":{\"outlinewidth\":0,\"ticks\":\"\"}},\"colorscale\":{\"diverging\":[[0,\"#8e0152\"],[0.1,\"#c51b7d\"],[0.2,\"#de77ae\"],[0.3,\"#f1b6da\"],[0.4,\"#fde0ef\"],[0.5,\"#f7f7f7\"],[0.6,\"#e6f5d0\"],[0.7,\"#b8e186\"],[0.8,\"#7fbc41\"],[0.9,\"#4d9221\"],[1,\"#276419\"]],\"sequential\":[[0.0,\"#0d0887\"],[0.1111111111111111,\"#46039f\"],[0.2222222222222222,\"#7201a8\"],[0.3333333333333333,\"#9c179e\"],[0.4444444444444444,\"#bd3786\"],[0.5555555555555556,\"#d8576b\"],[0.6666666666666666,\"#ed7953\"],[0.7777777777777778,\"#fb9f3a\"],[0.8888888888888888,\"#fdca26\"],[1.0,\"#f0f921\"]],\"sequentialminus\":[[0.0,\"#0d0887\"],[0.1111111111111111,\"#46039f\"],[0.2222222222222222,\"#7201a8\"],[0.3333333333333333,\"#9c179e\"],[0.4444444444444444,\"#bd3786\"],[0.5555555555555556,\"#d8576b\"],[0.6666666666666666,\"#ed7953\"],[0.7777777777777778,\"#fb9f3a\"],[0.8888888888888888,\"#fdca26\"],[1.0,\"#f0f921\"]]},\"colorway\":[\"#636efa\",\"#EF553B\",\"#00cc96\",\"#ab63fa\",\"#FFA15A\",\"#19d3f3\",\"#FF6692\",\"#B6E880\",\"#FF97FF\",\"#FECB52\"],\"font\":{\"color\":\"#f2f5fa\"},\"geo\":{\"bgcolor\":\"rgb(17,17,17)\",\"lakecolor\":\"rgb(17,17,17)\",\"landcolor\":\"rgb(17,17,17)\",\"showlakes\":true,\"showland\":true,\"subunitcolor\":\"#506784\"},\"hoverlabel\":{\"align\":\"left\"},\"hovermode\":\"closest\",\"mapbox\":{\"style\":\"dark\"},\"paper_bgcolor\":\"rgb(17,17,17)\",\"plot_bgcolor\":\"rgb(17,17,17)\",\"polar\":{\"angularaxis\":{\"gridcolor\":\"#506784\",\"linecolor\":\"#506784\",\"ticks\":\"\"},\"bgcolor\":\"rgb(17,17,17)\",\"radialaxis\":{\"gridcolor\":\"#506784\",\"linecolor\":\"#506784\",\"ticks\":\"\"}},\"scene\":{\"xaxis\":{\"backgroundcolor\":\"rgb(17,17,17)\",\"gridcolor\":\"#506784\",\"gridwidth\":2,\"linecolor\":\"#506784\",\"showbackground\":true,\"ticks\":\"\",\"zerolinecolor\":\"#C8D4E3\"},\"yaxis\":{\"backgroundcolor\":\"rgb(17,17,17)\",\"gridcolor\":\"#506784\",\"gridwidth\":2,\"linecolor\":\"#506784\",\"showbackground\":true,\"ticks\":\"\",\"zerolinecolor\":\"#C8D4E3\"},\"zaxis\":{\"backgroundcolor\":\"rgb(17,17,17)\",\"gridcolor\":\"#506784\",\"gridwidth\":2,\"linecolor\":\"#506784\",\"showbackground\":true,\"ticks\":\"\",\"zerolinecolor\":\"#C8D4E3\"}},\"shapedefaults\":{\"line\":{\"color\":\"#f2f5fa\"}},\"sliderdefaults\":{\"bgcolor\":\"#C8D4E3\",\"bordercolor\":\"rgb(17,17,17)\",\"borderwidth\":1,\"tickwidth\":0},\"ternary\":{\"aaxis\":{\"gridcolor\":\"#506784\",\"linecolor\":\"#506784\",\"ticks\":\"\"},\"baxis\":{\"gridcolor\":\"#506784\",\"linecolor\":\"#506784\",\"ticks\":\"\"},\"bgcolor\":\"rgb(17,17,17)\",\"caxis\":{\"gridcolor\":\"#506784\",\"linecolor\":\"#506784\",\"ticks\":\"\"}},\"title\":{\"x\":0.05},\"updatemenudefaults\":{\"bgcolor\":\"#506784\",\"borderwidth\":0},\"xaxis\":{\"automargin\":true,\"gridcolor\":\"#283442\",\"linecolor\":\"#506784\",\"ticks\":\"\",\"title\":{\"standoff\":15},\"zerolinecolor\":\"#283442\",\"zerolinewidth\":2},\"yaxis\":{\"automargin\":true,\"gridcolor\":\"#283442\",\"linecolor\":\"#506784\",\"ticks\":\"\",\"title\":{\"standoff\":15},\"zerolinecolor\":\"#283442\",\"zerolinewidth\":2}}},\"title\":{\"text\":\"Predicci\\u00f3n de redshift (R\\u00b2 = 0.9979)\"},\"xaxis\":{\"title\":{\"text\":\"\\u00cdndice de muestra\"}},\"yaxis\":{\"title\":{\"text\":\"Redshift\"}}},                        {\"responsive\": true}                    ).then(function(){\n",
       "                            \n",
       "var gd = document.getElementById('5fdf6019-7b88-4abd-bd57-0f164e750c24');\n",
       "var x = new MutationObserver(function (mutations, observer) {{\n",
       "        var display = window.getComputedStyle(gd).display;\n",
       "        if (!display || display === 'none') {{\n",
       "            console.log([gd, 'removed!']);\n",
       "            Plotly.purge(gd);\n",
       "            observer.disconnect();\n",
       "        }}\n",
       "}});\n",
       "\n",
       "// Listen for the removal of the full notebook cells\n",
       "var notebookContainer = gd.closest('#notebook-container');\n",
       "if (notebookContainer) {{\n",
       "    x.observe(notebookContainer, {childList: true});\n",
       "}}\n",
       "\n",
       "// Listen for the clearing of the current output cell\n",
       "var outputEl = gd.closest('.output');\n",
       "if (outputEl) {{\n",
       "    x.observe(outputEl, {childList: true});\n",
       "}}\n",
       "\n",
       "                        })                };                });            </script>        </div>"
      ]
     },
     "metadata": {},
     "output_type": "display_data"
    }
   ],
   "source": [
    "\n",
    "fig = go.Figure()\n",
    "\n",
    "# Línea real\n",
    "fig.add_trace(go.Scatter(\n",
    "    y=y_real,\n",
    "    mode='lines',\n",
    "    name='Redshift real',\n",
    "    line=dict(color='blue')\n",
    "))\n",
    "\n",
    "# Línea de predicción\n",
    "fig.add_trace(go.Scatter(\n",
    "    y=pred_redshift,\n",
    "    mode='lines',\n",
    "    name='Predicción',\n",
    "    line=dict(color='red')\n",
    "))\n",
    "\n",
    "# Título y ejes\n",
    "fig.update_layout(\n",
    "    title=f\"Predicción de redshift (R² = {r2:.4f})\",\n",
    "    xaxis_title=\"Índice de muestra\",\n",
    "    yaxis_title=\"Redshift\",\n",
    "    template='plotly_dark'\n",
    ")\n",
    "\n",
    "fig.show()\n"
   ]
  },
  {
   "cell_type": "markdown",
   "id": "284e3dee-22d0-464c-8be4-2c6a92a9837e",
   "metadata": {},
   "source": [
    "### Podemos concluir que el entranamiento realizado fue adecuado para hacer las predicciones correspondientes, vemos en la grafica como la predicción se asemeja al redshift real, por tanto al usar la magnitud aparente se puede hacer una buena estimación del redshift."
   ]
  },
  {
   "cell_type": "code",
   "execution_count": null,
   "id": "cc24692c-f739-4ce6-a136-7523be561db9",
   "metadata": {},
   "outputs": [],
   "source": []
  }
 ],
 "metadata": {
  "kernelspec": {
   "display_name": "Python 3 (ipykernel)",
   "language": "python",
   "name": "python3"
  },
  "language_info": {
   "codemirror_mode": {
    "name": "ipython",
    "version": 3
   },
   "file_extension": ".py",
   "mimetype": "text/x-python",
   "name": "python",
   "nbconvert_exporter": "python",
   "pygments_lexer": "ipython3",
   "version": "3.11.7"
  }
 },
 "nbformat": 4,
 "nbformat_minor": 5
}
